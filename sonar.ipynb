{
 "cells": [
  {
   "cell_type": "code",
   "execution_count": 1,
   "metadata": {},
   "outputs": [],
   "source": [
    "import pandas as pd\n",
    "import tensorflow as tf\n",
    "from tensorflow.keras import models, layers, utils\n",
    "from sklearn.preprocessing import LabelEncoder\n",
    "from sklearn.utils import shuffle\n",
    "import matplotlib.pyplot as plt"
   ]
  },
  {
   "cell_type": "code",
   "execution_count": 2,
   "metadata": {},
   "outputs": [
    {
     "data": {
      "text/html": [
       "<div>\n",
       "<style scoped>\n",
       "    .dataframe tbody tr th:only-of-type {\n",
       "        vertical-align: middle;\n",
       "    }\n",
       "\n",
       "    .dataframe tbody tr th {\n",
       "        vertical-align: top;\n",
       "    }\n",
       "\n",
       "    .dataframe thead th {\n",
       "        text-align: right;\n",
       "    }\n",
       "</style>\n",
       "<table border=\"1\" class=\"dataframe\">\n",
       "  <thead>\n",
       "    <tr style=\"text-align: right;\">\n",
       "      <th></th>\n",
       "      <th>0.0200</th>\n",
       "      <th>0.0371</th>\n",
       "      <th>0.0428</th>\n",
       "      <th>0.0207</th>\n",
       "      <th>0.0954</th>\n",
       "      <th>0.0986</th>\n",
       "      <th>0.1539</th>\n",
       "      <th>0.1601</th>\n",
       "      <th>0.3109</th>\n",
       "      <th>0.2111</th>\n",
       "      <th>...</th>\n",
       "      <th>0.0027</th>\n",
       "      <th>0.0065</th>\n",
       "      <th>0.0159</th>\n",
       "      <th>0.0072</th>\n",
       "      <th>0.0167</th>\n",
       "      <th>0.0180</th>\n",
       "      <th>0.0084</th>\n",
       "      <th>0.0090</th>\n",
       "      <th>0.0032</th>\n",
       "      <th>R</th>\n",
       "    </tr>\n",
       "  </thead>\n",
       "  <tbody>\n",
       "    <tr>\n",
       "      <th>0</th>\n",
       "      <td>0.0453</td>\n",
       "      <td>0.0523</td>\n",
       "      <td>0.0843</td>\n",
       "      <td>0.0689</td>\n",
       "      <td>0.1183</td>\n",
       "      <td>0.2583</td>\n",
       "      <td>0.2156</td>\n",
       "      <td>0.3481</td>\n",
       "      <td>0.3337</td>\n",
       "      <td>0.2872</td>\n",
       "      <td>...</td>\n",
       "      <td>0.0084</td>\n",
       "      <td>0.0089</td>\n",
       "      <td>0.0048</td>\n",
       "      <td>0.0094</td>\n",
       "      <td>0.0191</td>\n",
       "      <td>0.0140</td>\n",
       "      <td>0.0049</td>\n",
       "      <td>0.0052</td>\n",
       "      <td>0.0044</td>\n",
       "      <td>R</td>\n",
       "    </tr>\n",
       "    <tr>\n",
       "      <th>1</th>\n",
       "      <td>0.0262</td>\n",
       "      <td>0.0582</td>\n",
       "      <td>0.1099</td>\n",
       "      <td>0.1083</td>\n",
       "      <td>0.0974</td>\n",
       "      <td>0.2280</td>\n",
       "      <td>0.2431</td>\n",
       "      <td>0.3771</td>\n",
       "      <td>0.5598</td>\n",
       "      <td>0.6194</td>\n",
       "      <td>...</td>\n",
       "      <td>0.0232</td>\n",
       "      <td>0.0166</td>\n",
       "      <td>0.0095</td>\n",
       "      <td>0.0180</td>\n",
       "      <td>0.0244</td>\n",
       "      <td>0.0316</td>\n",
       "      <td>0.0164</td>\n",
       "      <td>0.0095</td>\n",
       "      <td>0.0078</td>\n",
       "      <td>R</td>\n",
       "    </tr>\n",
       "    <tr>\n",
       "      <th>2</th>\n",
       "      <td>0.0100</td>\n",
       "      <td>0.0171</td>\n",
       "      <td>0.0623</td>\n",
       "      <td>0.0205</td>\n",
       "      <td>0.0205</td>\n",
       "      <td>0.0368</td>\n",
       "      <td>0.1098</td>\n",
       "      <td>0.1276</td>\n",
       "      <td>0.0598</td>\n",
       "      <td>0.1264</td>\n",
       "      <td>...</td>\n",
       "      <td>0.0121</td>\n",
       "      <td>0.0036</td>\n",
       "      <td>0.0150</td>\n",
       "      <td>0.0085</td>\n",
       "      <td>0.0073</td>\n",
       "      <td>0.0050</td>\n",
       "      <td>0.0044</td>\n",
       "      <td>0.0040</td>\n",
       "      <td>0.0117</td>\n",
       "      <td>R</td>\n",
       "    </tr>\n",
       "    <tr>\n",
       "      <th>3</th>\n",
       "      <td>0.0762</td>\n",
       "      <td>0.0666</td>\n",
       "      <td>0.0481</td>\n",
       "      <td>0.0394</td>\n",
       "      <td>0.0590</td>\n",
       "      <td>0.0649</td>\n",
       "      <td>0.1209</td>\n",
       "      <td>0.2467</td>\n",
       "      <td>0.3564</td>\n",
       "      <td>0.4459</td>\n",
       "      <td>...</td>\n",
       "      <td>0.0031</td>\n",
       "      <td>0.0054</td>\n",
       "      <td>0.0105</td>\n",
       "      <td>0.0110</td>\n",
       "      <td>0.0015</td>\n",
       "      <td>0.0072</td>\n",
       "      <td>0.0048</td>\n",
       "      <td>0.0107</td>\n",
       "      <td>0.0094</td>\n",
       "      <td>R</td>\n",
       "    </tr>\n",
       "    <tr>\n",
       "      <th>4</th>\n",
       "      <td>0.0286</td>\n",
       "      <td>0.0453</td>\n",
       "      <td>0.0277</td>\n",
       "      <td>0.0174</td>\n",
       "      <td>0.0384</td>\n",
       "      <td>0.0990</td>\n",
       "      <td>0.1201</td>\n",
       "      <td>0.1833</td>\n",
       "      <td>0.2105</td>\n",
       "      <td>0.3039</td>\n",
       "      <td>...</td>\n",
       "      <td>0.0045</td>\n",
       "      <td>0.0014</td>\n",
       "      <td>0.0038</td>\n",
       "      <td>0.0013</td>\n",
       "      <td>0.0089</td>\n",
       "      <td>0.0057</td>\n",
       "      <td>0.0027</td>\n",
       "      <td>0.0051</td>\n",
       "      <td>0.0062</td>\n",
       "      <td>R</td>\n",
       "    </tr>\n",
       "  </tbody>\n",
       "</table>\n",
       "<p>5 rows × 61 columns</p>\n",
       "</div>"
      ],
      "text/plain": [
       "   0.0200  0.0371  0.0428  0.0207  0.0954  0.0986  0.1539  0.1601  0.3109  \\\n",
       "0  0.0453  0.0523  0.0843  0.0689  0.1183  0.2583  0.2156  0.3481  0.3337   \n",
       "1  0.0262  0.0582  0.1099  0.1083  0.0974  0.2280  0.2431  0.3771  0.5598   \n",
       "2  0.0100  0.0171  0.0623  0.0205  0.0205  0.0368  0.1098  0.1276  0.0598   \n",
       "3  0.0762  0.0666  0.0481  0.0394  0.0590  0.0649  0.1209  0.2467  0.3564   \n",
       "4  0.0286  0.0453  0.0277  0.0174  0.0384  0.0990  0.1201  0.1833  0.2105   \n",
       "\n",
       "   0.2111  ...  0.0027  0.0065  0.0159  0.0072  0.0167  0.0180  0.0084  \\\n",
       "0  0.2872  ...  0.0084  0.0089  0.0048  0.0094  0.0191  0.0140  0.0049   \n",
       "1  0.6194  ...  0.0232  0.0166  0.0095  0.0180  0.0244  0.0316  0.0164   \n",
       "2  0.1264  ...  0.0121  0.0036  0.0150  0.0085  0.0073  0.0050  0.0044   \n",
       "3  0.4459  ...  0.0031  0.0054  0.0105  0.0110  0.0015  0.0072  0.0048   \n",
       "4  0.3039  ...  0.0045  0.0014  0.0038  0.0013  0.0089  0.0057  0.0027   \n",
       "\n",
       "   0.0090  0.0032  R  \n",
       "0  0.0052  0.0044  R  \n",
       "1  0.0095  0.0078  R  \n",
       "2  0.0040  0.0117  R  \n",
       "3  0.0107  0.0094  R  \n",
       "4  0.0051  0.0062  R  \n",
       "\n",
       "[5 rows x 61 columns]"
      ]
     },
     "execution_count": 2,
     "metadata": {},
     "output_type": "execute_result"
    }
   ],
   "source": [
    "df = pd.read_csv('data/sonar.csv')\n",
    "df.head()"
   ]
  },
  {
   "cell_type": "code",
   "execution_count": 3,
   "metadata": {},
   "outputs": [
    {
     "data": {
      "text/html": [
       "<div>\n",
       "<style scoped>\n",
       "    .dataframe tbody tr th:only-of-type {\n",
       "        vertical-align: middle;\n",
       "    }\n",
       "\n",
       "    .dataframe tbody tr th {\n",
       "        vertical-align: top;\n",
       "    }\n",
       "\n",
       "    .dataframe thead th {\n",
       "        text-align: right;\n",
       "    }\n",
       "</style>\n",
       "<table border=\"1\" class=\"dataframe\">\n",
       "  <thead>\n",
       "    <tr style=\"text-align: right;\">\n",
       "      <th></th>\n",
       "      <th>0.0200</th>\n",
       "      <th>0.0371</th>\n",
       "      <th>0.0428</th>\n",
       "      <th>0.0207</th>\n",
       "      <th>0.0954</th>\n",
       "      <th>0.0986</th>\n",
       "      <th>0.1539</th>\n",
       "      <th>0.1601</th>\n",
       "      <th>0.3109</th>\n",
       "      <th>0.2111</th>\n",
       "      <th>...</th>\n",
       "      <th>0.0027</th>\n",
       "      <th>0.0065</th>\n",
       "      <th>0.0159</th>\n",
       "      <th>0.0072</th>\n",
       "      <th>0.0167</th>\n",
       "      <th>0.0180</th>\n",
       "      <th>0.0084</th>\n",
       "      <th>0.0090</th>\n",
       "      <th>0.0032</th>\n",
       "      <th>R</th>\n",
       "    </tr>\n",
       "  </thead>\n",
       "  <tbody>\n",
       "    <tr>\n",
       "      <th>183</th>\n",
       "      <td>0.0269</td>\n",
       "      <td>0.0383</td>\n",
       "      <td>0.0505</td>\n",
       "      <td>0.0707</td>\n",
       "      <td>0.1313</td>\n",
       "      <td>0.2103</td>\n",
       "      <td>0.2263</td>\n",
       "      <td>0.2524</td>\n",
       "      <td>0.3595</td>\n",
       "      <td>0.5915</td>\n",
       "      <td>...</td>\n",
       "      <td>0.0167</td>\n",
       "      <td>0.0199</td>\n",
       "      <td>0.0145</td>\n",
       "      <td>0.0081</td>\n",
       "      <td>0.0045</td>\n",
       "      <td>0.0043</td>\n",
       "      <td>0.0027</td>\n",
       "      <td>0.0055</td>\n",
       "      <td>0.0057</td>\n",
       "      <td>M</td>\n",
       "    </tr>\n",
       "    <tr>\n",
       "      <th>136</th>\n",
       "      <td>0.0430</td>\n",
       "      <td>0.0902</td>\n",
       "      <td>0.0833</td>\n",
       "      <td>0.0813</td>\n",
       "      <td>0.0165</td>\n",
       "      <td>0.0277</td>\n",
       "      <td>0.0569</td>\n",
       "      <td>0.2057</td>\n",
       "      <td>0.3887</td>\n",
       "      <td>0.7106</td>\n",
       "      <td>...</td>\n",
       "      <td>0.0176</td>\n",
       "      <td>0.0197</td>\n",
       "      <td>0.0210</td>\n",
       "      <td>0.0141</td>\n",
       "      <td>0.0049</td>\n",
       "      <td>0.0027</td>\n",
       "      <td>0.0162</td>\n",
       "      <td>0.0059</td>\n",
       "      <td>0.0021</td>\n",
       "      <td>M</td>\n",
       "    </tr>\n",
       "    <tr>\n",
       "      <th>114</th>\n",
       "      <td>0.0414</td>\n",
       "      <td>0.0436</td>\n",
       "      <td>0.0447</td>\n",
       "      <td>0.0844</td>\n",
       "      <td>0.0419</td>\n",
       "      <td>0.1215</td>\n",
       "      <td>0.2002</td>\n",
       "      <td>0.1516</td>\n",
       "      <td>0.0818</td>\n",
       "      <td>0.1975</td>\n",
       "      <td>...</td>\n",
       "      <td>0.0045</td>\n",
       "      <td>0.0136</td>\n",
       "      <td>0.0113</td>\n",
       "      <td>0.0053</td>\n",
       "      <td>0.0165</td>\n",
       "      <td>0.0141</td>\n",
       "      <td>0.0077</td>\n",
       "      <td>0.0246</td>\n",
       "      <td>0.0198</td>\n",
       "      <td>M</td>\n",
       "    </tr>\n",
       "    <tr>\n",
       "      <th>160</th>\n",
       "      <td>0.0305</td>\n",
       "      <td>0.0363</td>\n",
       "      <td>0.0214</td>\n",
       "      <td>0.0227</td>\n",
       "      <td>0.0456</td>\n",
       "      <td>0.0665</td>\n",
       "      <td>0.0939</td>\n",
       "      <td>0.0972</td>\n",
       "      <td>0.2535</td>\n",
       "      <td>0.3127</td>\n",
       "      <td>...</td>\n",
       "      <td>0.0200</td>\n",
       "      <td>0.0070</td>\n",
       "      <td>0.0070</td>\n",
       "      <td>0.0086</td>\n",
       "      <td>0.0089</td>\n",
       "      <td>0.0074</td>\n",
       "      <td>0.0042</td>\n",
       "      <td>0.0055</td>\n",
       "      <td>0.0021</td>\n",
       "      <td>M</td>\n",
       "    </tr>\n",
       "    <tr>\n",
       "      <th>147</th>\n",
       "      <td>0.0712</td>\n",
       "      <td>0.0901</td>\n",
       "      <td>0.1276</td>\n",
       "      <td>0.1497</td>\n",
       "      <td>0.1284</td>\n",
       "      <td>0.1165</td>\n",
       "      <td>0.1285</td>\n",
       "      <td>0.1684</td>\n",
       "      <td>0.1830</td>\n",
       "      <td>0.2127</td>\n",
       "      <td>...</td>\n",
       "      <td>0.0154</td>\n",
       "      <td>0.0156</td>\n",
       "      <td>0.0054</td>\n",
       "      <td>0.0030</td>\n",
       "      <td>0.0048</td>\n",
       "      <td>0.0087</td>\n",
       "      <td>0.0101</td>\n",
       "      <td>0.0095</td>\n",
       "      <td>0.0068</td>\n",
       "      <td>M</td>\n",
       "    </tr>\n",
       "  </tbody>\n",
       "</table>\n",
       "<p>5 rows × 61 columns</p>\n",
       "</div>"
      ],
      "text/plain": [
       "     0.0200  0.0371  0.0428  0.0207  0.0954  0.0986  0.1539  0.1601  0.3109  \\\n",
       "183  0.0269  0.0383  0.0505  0.0707  0.1313  0.2103  0.2263  0.2524  0.3595   \n",
       "136  0.0430  0.0902  0.0833  0.0813  0.0165  0.0277  0.0569  0.2057  0.3887   \n",
       "114  0.0414  0.0436  0.0447  0.0844  0.0419  0.1215  0.2002  0.1516  0.0818   \n",
       "160  0.0305  0.0363  0.0214  0.0227  0.0456  0.0665  0.0939  0.0972  0.2535   \n",
       "147  0.0712  0.0901  0.1276  0.1497  0.1284  0.1165  0.1285  0.1684  0.1830   \n",
       "\n",
       "     0.2111  ...  0.0027  0.0065  0.0159  0.0072  0.0167  0.0180  0.0084  \\\n",
       "183  0.5915  ...  0.0167  0.0199  0.0145  0.0081  0.0045  0.0043  0.0027   \n",
       "136  0.7106  ...  0.0176  0.0197  0.0210  0.0141  0.0049  0.0027  0.0162   \n",
       "114  0.1975  ...  0.0045  0.0136  0.0113  0.0053  0.0165  0.0141  0.0077   \n",
       "160  0.3127  ...  0.0200  0.0070  0.0070  0.0086  0.0089  0.0074  0.0042   \n",
       "147  0.2127  ...  0.0154  0.0156  0.0054  0.0030  0.0048  0.0087  0.0101   \n",
       "\n",
       "     0.0090  0.0032  R  \n",
       "183  0.0055  0.0057  M  \n",
       "136  0.0059  0.0021  M  \n",
       "114  0.0246  0.0198  M  \n",
       "160  0.0055  0.0021  M  \n",
       "147  0.0095  0.0068  M  \n",
       "\n",
       "[5 rows x 61 columns]"
      ]
     },
     "execution_count": 3,
     "metadata": {},
     "output_type": "execute_result"
    }
   ],
   "source": [
    "df = shuffle(df)\n",
    "df.head()"
   ]
  },
  {
   "cell_type": "code",
   "execution_count": 4,
   "metadata": {},
   "outputs": [
    {
     "name": "stdout",
     "output_type": "stream",
     "text": [
      "[[0.0269 0.0383 0.0505 ... 0.0055 0.0057 'M']\n",
      " [0.043 0.0902 0.0833 ... 0.0059 0.0021 'M']\n",
      " [0.0414 0.0436 0.0447 ... 0.0246 0.0198 'M']\n",
      " ...\n",
      " [0.0257 0.0447 0.0388 ... 0.0255 0.018 'R']\n",
      " [0.0443 0.0446 0.0235 ... 0.0152 0.01 'M']\n",
      " [0.018 0.0444 0.0476 ... 0.0073 0.0022 'M']]\n"
     ]
    }
   ],
   "source": [
    "dataset = df.values\n",
    "print(dataset)"
   ]
  },
  {
   "cell_type": "code",
   "execution_count": 5,
   "metadata": {},
   "outputs": [
    {
     "data": {
      "text/plain": [
       "(207, 61)"
      ]
     },
     "execution_count": 5,
     "metadata": {},
     "output_type": "execute_result"
    }
   ],
   "source": [
    "dataset.shape"
   ]
  },
  {
   "cell_type": "code",
   "execution_count": 6,
   "metadata": {},
   "outputs": [
    {
     "name": "stdout",
     "output_type": "stream",
     "text": [
      "[0.0269 0.0383 0.0505 0.0707 0.1313 0.2103 0.2263 0.2524 0.3595 0.5915\n",
      " 0.6675 0.5679 0.5175 0.3334 0.2002 0.2856 0.2937 0.3424 0.5949 0.7526\n",
      " 0.8959 0.8147 0.7109 0.7378 0.7201 0.8254 0.8917 0.982  0.8179 0.4848\n",
      " 0.3203 0.2775 0.2382 0.2911 0.1675 0.3156 0.1869 0.3391 0.5993 0.4124\n",
      " 0.1181 0.3651 0.4655 0.4777 0.3517 0.092  0.1227 0.1785 0.1085 0.03\n",
      " 0.0346 0.0167 0.0199 0.0145 0.0081 0.0045 0.0043 0.0027 0.0055 0.0057]\n",
      "M\n"
     ]
    }
   ],
   "source": [
    "x = dataset[:,:60].astype('float32')\n",
    "y = dataset[:,60]\n",
    "print(x[0])\n",
    "print(y[0])"
   ]
  },
  {
   "cell_type": "code",
   "execution_count": 7,
   "metadata": {},
   "outputs": [
    {
     "name": "stdout",
     "output_type": "stream",
     "text": [
      "(207, 60)\n",
      "(207,)\n"
     ]
    }
   ],
   "source": [
    "print(x.shape)\n",
    "print(y.shape)"
   ]
  },
  {
   "cell_type": "code",
   "execution_count": 8,
   "metadata": {},
   "outputs": [
    {
     "data": {
      "text/plain": [
       "array([0, 0, 0, 0, 0, 1, 0, 1, 0, 1, 0, 0, 0, 0, 0, 0, 1, 1, 1, 0, 0, 0,\n",
       "       0, 1, 0, 0, 1, 0, 1, 1, 0, 0, 0, 1, 1, 1, 0, 0, 1, 1, 0, 0, 1, 1,\n",
       "       1, 1, 0, 1, 0, 1, 1, 0, 0, 0, 1, 1, 1, 1, 1, 1, 0, 1, 1, 1, 0, 0,\n",
       "       1, 0, 1, 0, 0, 0, 1, 1, 0, 0, 0, 0, 0, 0, 1, 1, 0, 0, 0, 0, 1, 0,\n",
       "       0, 1, 1, 0, 1, 0, 1, 1, 0, 0, 1, 1, 1, 1, 1, 0, 0, 0, 1, 0, 0, 1,\n",
       "       1, 0, 0, 0, 0, 1, 1, 1, 1, 1, 1, 0, 1, 0, 0, 0, 0, 1, 1, 0, 1, 1,\n",
       "       0, 0, 0, 1, 0, 1, 0, 1, 1, 1, 1, 1, 1, 0, 1, 0, 1, 0, 0, 0, 1, 0,\n",
       "       0, 0, 0, 1, 1, 1, 0, 0, 0, 1, 1, 1, 0, 0, 0, 1, 0, 0, 0, 0, 1, 0,\n",
       "       1, 1, 0, 1, 1, 0, 0, 0, 1, 1, 0, 0, 1, 0, 1, 0, 1, 0, 0, 1, 0, 0,\n",
       "       1, 1, 1, 0, 1, 0, 1, 0, 0])"
      ]
     },
     "execution_count": 8,
     "metadata": {},
     "output_type": "execute_result"
    }
   ],
   "source": [
    "le = LabelEncoder()\n",
    "encoded_y = le.fit_transform(y)\n",
    "encoded_y"
   ]
  },
  {
   "cell_type": "code",
   "execution_count": 9,
   "metadata": {},
   "outputs": [
    {
     "name": "stdout",
     "output_type": "stream",
     "text": [
      "Train Data:  (145, 60)\n",
      "Test Data:  (62, 60)\n"
     ]
    }
   ],
   "source": [
    "train_data = x[:145,:]\n",
    "train_labels = encoded_y[:145]\n",
    "test_data = x[145:,:]\n",
    "test_labels = encoded_y[145:]\n",
    "print('Train Data: ',train_data.shape)\n",
    "print('Test Data: ',test_data.shape)"
   ]
  },
  {
   "cell_type": "code",
   "execution_count": 10,
   "metadata": {},
   "outputs": [],
   "source": [
    "model = models.Sequential()\n",
    "model.add(layers.Dense(60, activation='relu', input_shape=(60,)))\n",
    "model.add(layers.Dense(1, activation='sigmoid'))"
   ]
  },
  {
   "cell_type": "code",
   "execution_count": 11,
   "metadata": {},
   "outputs": [],
   "source": [
    "model.compile(optimizer='Adam',\n",
    "              loss='binary_crossentropy',\n",
    "              metrics=['acc'])"
   ]
  },
  {
   "cell_type": "code",
   "execution_count": 12,
   "metadata": {},
   "outputs": [
    {
     "name": "stdout",
     "output_type": "stream",
     "text": [
      "Train on 145 samples\n",
      "Epoch 1/40\n",
      "145/145 [==============================] - 2s 11ms/sample - loss: 0.6793 - acc: 0.5241\n",
      "Epoch 2/40\n",
      "145/145 [==============================] - 0s 2ms/sample - loss: 0.6341 - acc: 0.7586\n",
      "Epoch 3/40\n",
      "145/145 [==============================] - 0s 2ms/sample - loss: 0.5992 - acc: 0.7034 0s - loss: 0.5889 - acc: 0.715\n",
      "Epoch 4/40\n",
      "145/145 [==============================] - 0s 2ms/sample - loss: 0.5704 - acc: 0.7448\n",
      "Epoch 5/40\n",
      "145/145 [==============================] - 0s 2ms/sample - loss: 0.5472 - acc: 0.7586\n",
      "Epoch 6/40\n",
      "145/145 [==============================] - 0s 2ms/sample - loss: 0.5170 - acc: 0.7655 0s - loss: 0.5169 - acc: 0.78\n",
      "Epoch 7/40\n",
      "145/145 [==============================] - 0s 2ms/sample - loss: 0.5023 - acc: 0.7655\n",
      "Epoch 8/40\n",
      "145/145 [==============================] - 0s 2ms/sample - loss: 0.4802 - acc: 0.8069\n",
      "Epoch 9/40\n",
      "145/145 [==============================] - 0s 2ms/sample - loss: 0.4644 - acc: 0.8000\n",
      "Epoch 10/40\n",
      "145/145 [==============================] - 0s 2ms/sample - loss: 0.4616 - acc: 0.7862\n",
      "Epoch 11/40\n",
      "145/145 [==============================] - 0s 2ms/sample - loss: 0.4393 - acc: 0.7862\n",
      "Epoch 12/40\n",
      "145/145 [==============================] - 0s 2ms/sample - loss: 0.4434 - acc: 0.7793\n",
      "Epoch 13/40\n",
      "145/145 [==============================] - 0s 2ms/sample - loss: 0.4203 - acc: 0.8276\n",
      "Epoch 14/40\n",
      "145/145 [==============================] - 0s 2ms/sample - loss: 0.4077 - acc: 0.8138\n",
      "Epoch 15/40\n",
      "145/145 [==============================] - 0s 2ms/sample - loss: 0.4047 - acc: 0.8138\n",
      "Epoch 16/40\n",
      "145/145 [==============================] - 0s 2ms/sample - loss: 0.3951 - acc: 0.8000\n",
      "Epoch 17/40\n",
      "145/145 [==============================] - 0s 2ms/sample - loss: 0.3800 - acc: 0.8483\n",
      "Epoch 18/40\n",
      "145/145 [==============================] - 0s 2ms/sample - loss: 0.3784 - acc: 0.8345\n",
      "Epoch 19/40\n",
      "145/145 [==============================] - 0s 2ms/sample - loss: 0.3668 - acc: 0.8414\n",
      "Epoch 20/40\n",
      "145/145 [==============================] - 0s 2ms/sample - loss: 0.3551 - acc: 0.8552\n",
      "Epoch 21/40\n",
      "145/145 [==============================] - 0s 2ms/sample - loss: 0.3545 - acc: 0.8483\n",
      "Epoch 22/40\n",
      "145/145 [==============================] - 0s 2ms/sample - loss: 0.3499 - acc: 0.8414\n",
      "Epoch 23/40\n",
      "145/145 [==============================] - 0s 2ms/sample - loss: 0.3414 - acc: 0.8552\n",
      "Epoch 24/40\n",
      "145/145 [==============================] - 0s 2ms/sample - loss: 0.3602 - acc: 0.8483\n",
      "Epoch 25/40\n",
      "145/145 [==============================] - 0s 1ms/sample - loss: 0.3482 - acc: 0.8345\n",
      "Epoch 26/40\n",
      "145/145 [==============================] - 0s 1ms/sample - loss: 0.3242 - acc: 0.8276\n",
      "Epoch 27/40\n",
      "145/145 [==============================] - 0s 1ms/sample - loss: 0.3224 - acc: 0.8621\n",
      "Epoch 28/40\n",
      "145/145 [==============================] - 0s 1ms/sample - loss: 0.3212 - acc: 0.8483\n",
      "Epoch 29/40\n",
      "145/145 [==============================] - 0s 2ms/sample - loss: 0.3117 - acc: 0.8621\n",
      "Epoch 30/40\n",
      "145/145 [==============================] - 0s 2ms/sample - loss: 0.3104 - acc: 0.8690\n",
      "Epoch 31/40\n",
      "145/145 [==============================] - 0s 2ms/sample - loss: 0.2962 - acc: 0.8966\n",
      "Epoch 32/40\n",
      "145/145 [==============================] - 0s 2ms/sample - loss: 0.2978 - acc: 0.8690\n",
      "Epoch 33/40\n",
      "145/145 [==============================] - 0s 2ms/sample - loss: 0.2883 - acc: 0.8621\n",
      "Epoch 34/40\n",
      "145/145 [==============================] - 0s 2ms/sample - loss: 0.2951 - acc: 0.8690\n",
      "Epoch 35/40\n",
      "145/145 [==============================] - 0s 2ms/sample - loss: 0.2796 - acc: 0.8621 0s - loss: 0.2780 - acc: 0.88\n",
      "Epoch 36/40\n",
      "145/145 [==============================] - 0s 2ms/sample - loss: 0.2738 - acc: 0.8828\n",
      "Epoch 37/40\n",
      "145/145 [==============================] - 0s 1ms/sample - loss: 0.2736 - acc: 0.8759\n",
      "Epoch 38/40\n",
      "145/145 [==============================] - 0s 2ms/sample - loss: 0.2660 - acc: 0.8897\n",
      "Epoch 39/40\n",
      "145/145 [==============================] - 0s 2ms/sample - loss: 0.2584 - acc: 0.9034\n",
      "Epoch 40/40\n",
      "145/145 [==============================] - 0s 2ms/sample - loss: 0.2470 - acc: 0.9172\n"
     ]
    },
    {
     "data": {
      "text/plain": [
       "<tensorflow.python.keras.callbacks.History at 0x1f5f756a940>"
      ]
     },
     "execution_count": 12,
     "metadata": {},
     "output_type": "execute_result"
    }
   ],
   "source": [
    "model.fit(train_data, train_labels, epochs=40, batch_size=2)"
   ]
  },
  {
   "cell_type": "code",
   "execution_count": 13,
   "metadata": {},
   "outputs": [
    {
     "name": "stdout",
     "output_type": "stream",
     "text": [
      "62/1 - 0s - loss: 0.6017 - acc: 0.8065\n",
      "0.8064516\n"
     ]
    }
   ],
   "source": [
    "loss, acc = model.evaluate(test_data, test_labels, verbose=2)\n",
    "print(acc)"
   ]
  },
  {
   "cell_type": "markdown",
   "metadata": {},
   "source": [
    "# Training model with validation"
   ]
  },
  {
   "cell_type": "code",
   "execution_count": 14,
   "metadata": {},
   "outputs": [],
   "source": [
    "train_data = x[:145,:]\n",
    "train_labels = encoded_y[:145]\n",
    "val_data = x[145:166,:]\n",
    "val_labels = encoded_y[145:166]\n",
    "test_data = x[166:,:]\n",
    "test_labels = encoded_y[166:]"
   ]
  },
  {
   "cell_type": "code",
   "execution_count": 15,
   "metadata": {},
   "outputs": [
    {
     "name": "stdout",
     "output_type": "stream",
     "text": [
      "Train Data:  (145, 60)\n",
      "Validation Data:  (21, 60)\n",
      "Test Data: (41, 60)\n"
     ]
    }
   ],
   "source": [
    "print('Train Data: ',train_data.shape)\n",
    "print('Validation Data: ',val_data.shape)\n",
    "print('Test Data:', test_data.shape)"
   ]
  },
  {
   "cell_type": "code",
   "execution_count": 16,
   "metadata": {},
   "outputs": [],
   "source": [
    "model = models.Sequential()\n",
    "model.add(layers.Dense(60, activation='relu', input_shape=(60,)))\n",
    "model.add(layers.Dense(1, activation='sigmoid'))\n",
    "\n",
    "model.compile(optimizer='Adam',\n",
    "              loss='binary_crossentropy',\n",
    "              metrics=['acc'])"
   ]
  },
  {
   "cell_type": "code",
   "execution_count": 17,
   "metadata": {},
   "outputs": [
    {
     "name": "stdout",
     "output_type": "stream",
     "text": [
      "Train on 145 samples, validate on 21 samples\n",
      "Epoch 1/20\n",
      "145/145 [==============================] - 1s 10ms/sample - loss: 0.6920 - acc: 0.5517 - val_loss: 0.6305 - val_acc: 0.6190\n",
      "Epoch 2/20\n",
      "145/145 [==============================] - 0s 1ms/sample - loss: 0.6525 - acc: 0.6276 - val_loss: 0.6212 - val_acc: 0.7619\n",
      "Epoch 3/20\n",
      "145/145 [==============================] - 0s 890us/sample - loss: 0.6287 - acc: 0.6828 - val_loss: 0.5988 - val_acc: 0.9048\n",
      "Epoch 4/20\n",
      "145/145 [==============================] - 0s 973us/sample - loss: 0.6017 - acc: 0.7103 - val_loss: 0.5571 - val_acc: 0.7143\n",
      "Epoch 5/20\n",
      "145/145 [==============================] - 0s 980us/sample - loss: 0.5839 - acc: 0.7448 - val_loss: 0.5583 - val_acc: 0.9048\n",
      "Epoch 6/20\n",
      "145/145 [==============================] - 0s 1ms/sample - loss: 0.5716 - acc: 0.7172 - val_loss: 0.5403 - val_acc: 0.8571\n",
      "Epoch 7/20\n",
      "145/145 [==============================] - 0s 980us/sample - loss: 0.5396 - acc: 0.7379 - val_loss: 0.4945 - val_acc: 0.9048\n",
      "Epoch 8/20\n",
      "145/145 [==============================] - 0s 1ms/sample - loss: 0.5203 - acc: 0.7931 - val_loss: 0.4812 - val_acc: 0.9048\n",
      "Epoch 9/20\n",
      "145/145 [==============================] - 0s 903us/sample - loss: 0.5004 - acc: 0.8276 - val_loss: 0.4440 - val_acc: 0.8095\n",
      "Epoch 10/20\n",
      "145/145 [==============================] - 0s 980us/sample - loss: 0.4927 - acc: 0.7655 - val_loss: 0.4353 - val_acc: 0.9048\n",
      "Epoch 11/20\n",
      "145/145 [==============================] - 0s 938us/sample - loss: 0.4724 - acc: 0.8000 - val_loss: 0.4055 - val_acc: 0.9048\n",
      "Epoch 12/20\n",
      "145/145 [==============================] - 0s 973us/sample - loss: 0.4595 - acc: 0.7931 - val_loss: 0.3919 - val_acc: 0.9048\n",
      "Epoch 13/20\n",
      "145/145 [==============================] - 0s 898us/sample - loss: 0.4508 - acc: 0.8276 - val_loss: 0.4014 - val_acc: 0.8571\n",
      "Epoch 14/20\n",
      "145/145 [==============================] - 0s 931us/sample - loss: 0.4392 - acc: 0.7655 - val_loss: 0.3644 - val_acc: 0.8571\n",
      "Epoch 15/20\n",
      "145/145 [==============================] - 0s 986us/sample - loss: 0.4565 - acc: 0.7793 - val_loss: 0.3745 - val_acc: 0.7143\n",
      "Epoch 16/20\n",
      "145/145 [==============================] - 0s 958us/sample - loss: 0.4239 - acc: 0.7862 - val_loss: 0.3593 - val_acc: 0.9048\n",
      "Epoch 17/20\n",
      "145/145 [==============================] - 0s 1ms/sample - loss: 0.4112 - acc: 0.8207 - val_loss: 0.3382 - val_acc: 0.8571\n",
      "Epoch 18/20\n",
      "145/145 [==============================] - 0s 980us/sample - loss: 0.4072 - acc: 0.8207 - val_loss: 0.3314 - val_acc: 0.9048\n",
      "Epoch 19/20\n",
      "145/145 [==============================] - 0s 1ms/sample - loss: 0.4014 - acc: 0.8345 - val_loss: 0.3211 - val_acc: 0.9048\n",
      "Epoch 20/20\n",
      "145/145 [==============================] - ETA: 0s - loss: 0.3898 - acc: 0.810 - 0s 1ms/sample - loss: 0.3939 - acc: 0.8138 - val_loss: 0.3119 - val_acc: 0.9048\n"
     ]
    }
   ],
   "source": [
    "history = model.fit(train_data, train_labels, epochs=20, batch_size=4, validation_data=(val_data,val_labels))"
   ]
  },
  {
   "cell_type": "code",
   "execution_count": 18,
   "metadata": {},
   "outputs": [],
   "source": [
    "his_dict = history.history"
   ]
  },
  {
   "cell_type": "code",
   "execution_count": 19,
   "metadata": {},
   "outputs": [],
   "source": [
    "loss = his_dict['loss']\n",
    "val_loss = his_dict['val_loss']\n",
    "acc = his_dict['acc']\n",
    "val_acc = his_dict['val_acc']\n",
    "epochs = range(1,len(loss)+1)"
   ]
  },
  {
   "cell_type": "code",
   "execution_count": 20,
   "metadata": {},
   "outputs": [
    {
     "data": {
      "image/png": "[encoded data removed]",
      "text/plain": [
       "<Figure size 432x288 with 1 Axes>"
      ]
     },
     "metadata": {
      "needs_background": "light"
     },
     "output_type": "display_data"
    },
    {
     "data": {
      "image/png": "[encoded data removed]",
      "text/plain": [
       "<Figure size 432x288 with 1 Axes>"
      ]
     },
     "metadata": {
      "needs_background": "light"
     },
     "output_type": "display_data"
    }
   ],
   "source": [
    "plt.plot(epochs,loss,'bo',label='Training Loss')\n",
    "plt.plot(epochs,val_loss,'b',label='Validation Loss')\n",
    "plt.xlabel('Epochs')\n",
    "plt.ylabel('Loss')\n",
    "plt.title('Training and Validation Loss')\n",
    "plt.legend()\n",
    "plt.show()\n",
    "\n",
    "plt.clf()\n",
    "\n",
    "plt.plot(epochs,acc,'bo',label='Training Accuracy')\n",
    "plt.plot(epochs,val_acc,'b',label='Validation Accuracy')\n",
    "plt.xlabel('Epochs')\n",
    "plt.ylabel('Accuracy')\n",
    "plt.title('Training and Validation Accuracy')\n",
    "plt.legend()\n",
    "plt.show()"
   ]
  },
  {
   "cell_type": "code",
   "execution_count": 21,
   "metadata": {},
   "outputs": [
    {
     "name": "stdout",
     "output_type": "stream",
     "text": [
      "\r",
      "41/1 [==============================================================================================================================================================================================================================================================================================================================================================================================================================================================================================================================================================================================================================================================================================================================================================================================================================================================================================================================================================================================================================================================================================================================================================================================================================================================================] - 0s 171us/sample - loss: 0.7066 - acc: 0.6585\n"
     ]
    },
    {
     "data": {
      "text/plain": [
       "[0.6293041866000105, 0.6585366]"
      ]
     },
     "execution_count": 21,
     "metadata": {},
     "output_type": "execute_result"
    }
   ],
   "source": [
    "model.evaluate(test_data, test_labels)"
   ]
  },
  {
   "cell_type": "markdown",
   "metadata": {},
   "source": [
    "# Appling k-Fold Validation"
   ]
  },
  {
   "cell_type": "code",
   "execution_count": 22,
   "metadata": {},
   "outputs": [
    {
     "name": "stderr",
     "output_type": "stream",
     "text": [
      "Using TensorFlow backend.\n"
     ]
    }
   ],
   "source": [
    "from keras.wrappers.scikit_learn import KerasClassifier\n",
    "from sklearn.model_selection import cross_val_score, StratifiedKFold\n",
    "from sklearn.preprocessing import StandardScaler\n",
    "from sklearn.pipeline import Pipeline\n",
    "import numpy as np"
   ]
  },
  {
   "cell_type": "code",
   "execution_count": 23,
   "metadata": {},
   "outputs": [],
   "source": [
    "seed = 7\n",
    "np.random.seed(seed)"
   ]
  },
  {
   "cell_type": "code",
   "execution_count": 24,
   "metadata": {},
   "outputs": [],
   "source": [
    "def model():\n",
    "    model = models.Sequential()\n",
    "    model.add(layers.Dense(60, activation='relu', input_shape=(60,)))\n",
    "    model.add(layers.Dense(1, activation='sigmoid'))\n",
    "\n",
    "    model.compile(optimizer='Adam',\n",
    "                  loss='binary_crossentropy',\n",
    "                  metrics=['acc'])\n",
    "    return model"
   ]
  },
  {
   "cell_type": "code",
   "execution_count": 25,
   "metadata": {},
   "outputs": [],
   "source": [
    "estimator = KerasClassifier(build_fn=model, epochs=100, batch_size=5, verbose=0)\n",
    "kfold = StratifiedKFold(n_splits=10, shuffle=True, random_state=seed)\n",
    "results = cross_val_score(estimator, train_data, train_labels, cv=kfold)"
   ]
  },
  {
   "cell_type": "code",
   "execution_count": 26,
   "metadata": {},
   "outputs": [
    {
     "name": "stdout",
     "output_type": "stream",
     "text": [
      "Results(Accuracy): 80.62% (12.54%)\n"
     ]
    }
   ],
   "source": [
    "print(\"Results(Accuracy): %.2f%% (%.2f%%)\" % (results.mean()*100, results.std()*100))"
   ]
  },
  {
   "cell_type": "code",
   "execution_count": 27,
   "metadata": {},
   "outputs": [
    {
     "name": "stdout",
     "output_type": "stream",
     "text": [
      "Standardized: 86.86% (10.81%)\n"
     ]
    }
   ],
   "source": [
    "np.random.seed(seed)\n",
    "estimators = []\n",
    "estimators.append(('standardize', StandardScaler()))\n",
    "estimators.append(('mlp', KerasClassifier(build_fn=model, epochs=100, batch_size=5, verbose=0)))\n",
    "pipeline = Pipeline(estimators)\n",
    "kfold = StratifiedKFold(n_splits=10, shuffle=True, random_state=seed)\n",
    "results = cross_val_score(pipeline, train_data, train_labels, cv=kfold)\n",
    "print(\"Standardized: %.2f%% (%.2f%%)\" % (results.mean()*100, results.std()*100))"
   ]
  },
  {
   "cell_type": "code",
   "execution_count": null,
   "metadata": {},
   "outputs": [],
   "source": []
  }
 ],
 "metadata": {
  "kernelspec": {
   "display_name": "Python 3",
   "language": "python",
   "name": "python3"
  },
  "language_info": {
   "codemirror_mode": {
    "name": "ipython",
    "version": 3
   },
   "file_extension": ".py",
   "mimetype": "text/x-python",
   "name": "python",
   "nbconvert_exporter": "python",
   "pygments_lexer": "ipython3",
   "version": "3.7.3"
  }
 },
 "nbformat": 4,
 "nbformat_minor": 2
}
