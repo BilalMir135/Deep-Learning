{
 "cells": [
  {
   "cell_type": "code",
   "execution_count": 2,
   "metadata": {},
   "outputs": [],
   "source": [
    "import tensorflow as tf\n",
    "from tensorflow.keras.datasets import reuters\n",
    "from tensorflow.keras import models, layers, utils\n",
    "import matplotlib.pyplot as plt\n",
    "import numpy as np"
   ]
  },
  {
   "cell_type": "code",
   "execution_count": 3,
   "metadata": {},
   "outputs": [
    {
     "name": "stdout",
     "output_type": "stream",
     "text": [
      "Downloading data from https://storage.googleapis.com/tensorflow/tf-keras-datasets/reuters.npz\n",
      "2113536/2110848 [==============================] - 3s 2us/step\n"
     ]
    }
   ],
   "source": [
    "(train_data, train_labels),(test_data,test_labels) = reuters.load_data(num_words=10000)"
   ]
  },
  {
   "cell_type": "code",
   "execution_count": 4,
   "metadata": {},
   "outputs": [
    {
     "name": "stdout",
     "output_type": "stream",
     "text": [
      "Train Data: 8982\n",
      "Test Data: 2246\n"
     ]
    }
   ],
   "source": [
    "print('Train Data:',len(train_data))\n",
    "print('Test Data:', len(test_data))"
   ]
  },
  {
   "cell_type": "code",
   "execution_count": 5,
   "metadata": {},
   "outputs": [
    {
     "name": "stdout",
     "output_type": "stream",
     "text": [
      "[1, 2, 2, 8, 43, 10, 447, 5, 25, 207, 270, 5, 3095, 111, 16, 369, 186, 90, 67, 7, 89, 5, 19, 102, 6, 19, 124, 15, 90, 67, 84, 22, 482, 26, 7, 48, 4, 49, 8, 864, 39, 209, 154, 6, 151, 6, 83, 11, 15, 22, 155, 11, 15, 7, 48, 9, 4579, 1005, 504, 6, 258, 6, 272, 11, 15, 22, 134, 44, 11, 15, 16, 8, 197, 1245, 90, 67, 52, 29, 209, 30, 32, 132, 6, 109, 15, 17, 12]\n",
      "3\n"
     ]
    }
   ],
   "source": [
    "print(train_data[0])\n",
    "print(train_labels[0])"
   ]
  },
  {
   "cell_type": "code",
   "execution_count": 7,
   "metadata": {},
   "outputs": [],
   "source": [
    "def vectorize_sequence(sequence, dimensions=10000):\n",
    "    result = np.zeros((len(sequence),dimensions))\n",
    "    for i,sequence in enumerate(sequence):\n",
    "        result[i,sequence] = 1\n",
    "    return result"
   ]
  },
  {
   "cell_type": "code",
   "execution_count": 8,
   "metadata": {},
   "outputs": [],
   "source": [
    "x_train = vectorize_sequence(train_data)\n",
    "x_test = vectorize_sequence(test_data)"
   ]
  },
  {
   "cell_type": "code",
   "execution_count": 9,
   "metadata": {},
   "outputs": [],
   "source": [
    "#manually doing one_hot_encoding\n",
    "#46 because reuters data classified into 46 classes\n",
    "def one_hot_encoding(label, dimensions=46):\n",
    "    result = np.zeros((len(label),dimensions))\n",
    "    for i,label in enumerate(label):\n",
    "        result[i,label] = 1\n",
    "    return result\n",
    "#code just for knowledge"
   ]
  },
  {
   "cell_type": "code",
   "execution_count": 10,
   "metadata": {},
   "outputs": [],
   "source": [
    "y_train = utils.to_categorical(train_labels)\n",
    "y_test = utils.to_categorical(test_labels)"
   ]
  },
  {
   "cell_type": "code",
   "execution_count": 22,
   "metadata": {},
   "outputs": [],
   "source": [
    "model = models.Sequential()\n",
    "model.add(layers.Dense(64, activation='relu', input_shape=(10000,)))\n",
    "model.add(layers.Dense(64, activation='relu'))\n",
    "model.add(layers.Dense(46, activation='softmax'))"
   ]
  },
  {
   "cell_type": "code",
   "execution_count": 23,
   "metadata": {},
   "outputs": [],
   "source": [
    "model.compile(optimizer='rmsprop',\n",
    "              loss='categorical_crossentropy',\n",
    "              metrics=['acc'])"
   ]
  },
  {
   "cell_type": "code",
   "execution_count": 24,
   "metadata": {},
   "outputs": [],
   "source": [
    "x_valid = x_train[:1000]\n",
    "partial_x_train = x_train[1000:]\n",
    "y_valid = y_train[:1000]\n",
    "partial_y_train = y_train[1000:]"
   ]
  },
  {
   "cell_type": "code",
   "execution_count": 25,
   "metadata": {},
   "outputs": [
    {
     "name": "stdout",
     "output_type": "stream",
     "text": [
      "Train on 7982 samples, validate on 1000 samples\n",
      "Epoch 1/20\n",
      "7982/7982 [==============================] - 4s 441us/sample - loss: 2.6079 - acc: 0.5153 - val_loss: 1.7388 - val_acc: 0.6440\n",
      "Epoch 2/20\n",
      "7982/7982 [==============================] - 2s 278us/sample - loss: 1.4403 - acc: 0.7032 - val_loss: 1.3330 - val_acc: 0.7130\n",
      "Epoch 3/20\n",
      "7982/7982 [==============================] - 2s 277us/sample - loss: 1.0722 - acc: 0.7671 - val_loss: 1.1677 - val_acc: 0.7590\n",
      "Epoch 4/20\n",
      "7982/7982 [==============================] - 2s 266us/sample - loss: 0.8464 - acc: 0.8142 - val_loss: 1.0414 - val_acc: 0.7880\n",
      "Epoch 5/20\n",
      "7982/7982 [==============================] - 2s 266us/sample - loss: 0.6773 - acc: 0.8548 - val_loss: 0.9676 - val_acc: 0.8030\n",
      "Epoch 6/20\n",
      "7982/7982 [==============================] - 2s 271us/sample - loss: 0.5409 - acc: 0.8882 - val_loss: 0.9261 - val_acc: 0.8080\n",
      "Epoch 7/20\n",
      "7982/7982 [==============================] - 2s 270us/sample - loss: 0.4309 - acc: 0.9129 - val_loss: 0.8963 - val_acc: 0.8140\n",
      "Epoch 8/20\n",
      "7982/7982 [==============================] - 2s 268us/sample - loss: 0.3551 - acc: 0.9262 - val_loss: 0.8774 - val_acc: 0.8220\n",
      "Epoch 9/20\n",
      "7982/7982 [==============================] - 2s 269us/sample - loss: 0.2863 - acc: 0.9390 - val_loss: 0.9064 - val_acc: 0.8120\n",
      "Epoch 10/20\n",
      "7982/7982 [==============================] - 2s 267us/sample - loss: 0.2468 - acc: 0.9441 - val_loss: 0.9003 - val_acc: 0.8170\n",
      "Epoch 11/20\n",
      "7982/7982 [==============================] - 2s 273us/sample - loss: 0.2096 - acc: 0.9511 - val_loss: 0.9091 - val_acc: 0.8190\n",
      "Epoch 12/20\n",
      "7982/7982 [==============================] - 2s 273us/sample - loss: 0.1819 - acc: 0.9534 - val_loss: 0.9086 - val_acc: 0.8220\n",
      "Epoch 13/20\n",
      "7982/7982 [==============================] - 2s 270us/sample - loss: 0.1666 - acc: 0.9526 - val_loss: 0.9356 - val_acc: 0.8210\n",
      "Epoch 14/20\n",
      "7982/7982 [==============================] - 2s 268us/sample - loss: 0.1523 - acc: 0.9531 - val_loss: 0.9607 - val_acc: 0.8150\n",
      "Epoch 15/20\n",
      "7982/7982 [==============================] - 2s 265us/sample - loss: 0.1358 - acc: 0.9580 - val_loss: 0.9823 - val_acc: 0.8160\n",
      "Epoch 16/20\n",
      "7982/7982 [==============================] - 2s 271us/sample - loss: 0.1334 - acc: 0.9572 - val_loss: 1.0366 - val_acc: 0.8060\n",
      "Epoch 17/20\n",
      "7982/7982 [==============================] - 2s 273us/sample - loss: 0.1265 - acc: 0.9560 - val_loss: 1.0037 - val_acc: 0.8090\n",
      "Epoch 18/20\n",
      "7982/7982 [==============================] - 2s 273us/sample - loss: 0.1188 - acc: 0.9573 - val_loss: 1.0460 - val_acc: 0.8110\n",
      "Epoch 19/20\n",
      "7982/7982 [==============================] - 2s 271us/sample - loss: 0.1176 - acc: 0.9579 - val_loss: 1.0529 - val_acc: 0.8100\n",
      "Epoch 20/20\n",
      "7982/7982 [==============================] - 2s 266us/sample - loss: 0.1111 - acc: 0.9582 - val_loss: 1.1824 - val_acc: 0.7900\n"
     ]
    }
   ],
   "source": [
    "history = model.fit(partial_x_train, partial_y_train, epochs=20, batch_size=512, validation_data=(x_valid,y_valid))"
   ]
  },
  {
   "cell_type": "code",
   "execution_count": 26,
   "metadata": {},
   "outputs": [
    {
     "name": "stdout",
     "output_type": "stream",
     "text": [
      "{'loss': [2.607912421555066, 1.440327908872692, 1.0722129574636863, 0.8464234877696045, 0.6773039221435047, 0.5408684453684057, 0.4308884541243427, 0.3551239269593998, 0.2863097943942429, 0.24680194760497964, 0.20963177333959987, 0.18189694986131907, 0.16657960340212652, 0.15226138534177905, 0.13582821675363682, 0.13342598694827257, 0.12651475870468898, 0.11883629820036787, 0.11761848694980667, 0.11112519306770335], 'acc': [0.5152844, 0.7032072, 0.767101, 0.81420696, 0.8547983, 0.88824856, 0.9129291, 0.926209, 0.93898773, 0.9441243, 0.95114005, 0.9533951, 0.95264345, 0.95314455, 0.9580306, 0.9571536, 0.9560261, 0.95727885, 0.9579053, 0.9581559], 'val_loss': [1.7387865982055664, 1.3330371198654174, 1.1677099113464355, 1.0413777713775634, 0.967559907913208, 0.9261351919174194, 0.8963365797996521, 0.8774191956520081, 0.9064351935386658, 0.9002517437934876, 0.9090801601409912, 0.9086315250396728, 0.9356354293823242, 0.9607243094444274, 0.9823406934738159, 1.0365592603683471, 1.0037050199508668, 1.046049617767334, 1.0529204216003418, 1.1824391317367553], 'val_acc': [0.644, 0.713, 0.759, 0.788, 0.803, 0.808, 0.814, 0.822, 0.812, 0.817, 0.819, 0.822, 0.821, 0.815, 0.816, 0.806, 0.809, 0.811, 0.81, 0.79]}\n"
     ]
    }
   ],
   "source": [
    "history_dict = history.history\n",
    "print(history_dict)"
   ]
  },
  {
   "cell_type": "code",
   "execution_count": 27,
   "metadata": {},
   "outputs": [
    {
     "data": {
      "image/png": "[encoded data removed]",
      "text/plain": [
       "<Figure size 432x288 with 1 Axes>"
      ]
     },
     "metadata": {
      "needs_background": "light"
     },
     "output_type": "display_data"
    },
    {
     "data": {
      "image/png": "[encoded data removed]",
      "text/plain": [
       "<Figure size 432x288 with 1 Axes>"
      ]
     },
     "metadata": {
      "needs_background": "light"
     },
     "output_type": "display_data"
    }
   ],
   "source": [
    "loss = history_dict['loss']\n",
    "val_loss = history_dict['val_loss']\n",
    "accuracy = history_dict['acc']\n",
    "val_accuracy = history_dict['val_acc']\n",
    "epochs = range(1, len(loss)+1)\n",
    "\n",
    "plt.plot(epochs, loss, 'bo', label='Training Loss')\n",
    "plt.plot(epochs, val_loss, 'b', label='Validation Loss')\n",
    "plt.title('Training and validation loss')\n",
    "plt.legend()\n",
    "plt.show()\n",
    "\n",
    "plt.clf\n",
    "\n",
    "plt.plot(epochs, accuracy, 'bo', label='Training Accuracy')\n",
    "plt.plot(epochs, val_accuracy, 'b', label='Validation Accuracy')\n",
    "plt.title('Training and validation accuracy')\n",
    "plt.legend()\n",
    "plt.show()"
   ]
  },
  {
   "cell_type": "code",
   "execution_count": 28,
   "metadata": {},
   "outputs": [],
   "source": [
    "prediction = model.predict(x_test)"
   ]
  },
  {
   "cell_type": "code",
   "execution_count": 29,
   "metadata": {},
   "outputs": [
    {
     "data": {
      "text/plain": [
       "array([2.2994800e-06, 7.4413393e-08, 1.5356129e-08, 9.6148849e-01,\n",
       "       3.8418517e-02, 1.0552393e-08, 8.4476953e-11, 3.3448956e-07,\n",
       "       6.6990037e-06, 1.0706846e-07, 1.2093123e-07, 5.4187130e-05,\n",
       "       3.3325019e-08, 9.8862574e-06, 2.1981418e-08, 5.7264099e-10,\n",
       "       5.1870825e-07, 3.7799467e-07, 9.3049030e-10, 1.3665393e-05,\n",
       "       4.5908442e-07, 1.7547349e-07, 4.6822518e-11, 1.0517329e-08,\n",
       "       3.8091133e-07, 7.6888435e-10, 2.3723181e-09, 2.8845210e-10,\n",
       "       1.0416174e-08, 7.2182559e-08, 1.0232209e-06, 1.9588375e-08,\n",
       "       1.5331400e-08, 2.2136322e-09, 1.6128894e-07, 1.3103261e-07,\n",
       "       1.4621376e-06, 4.9691952e-11, 4.4402097e-07, 3.1812345e-07,\n",
       "       1.7830614e-09, 1.6019014e-07, 2.5400506e-11, 1.0850316e-08,\n",
       "       3.1953107e-10, 1.2964305e-11], dtype=float32)"
      ]
     },
     "execution_count": 29,
     "metadata": {},
     "output_type": "execute_result"
    }
   ],
   "source": [
    "prediction[0]"
   ]
  },
  {
   "cell_type": "code",
   "execution_count": 33,
   "metadata": {},
   "outputs": [
    {
     "data": {
      "text/plain": [
       "1.0000001"
      ]
     },
     "execution_count": 33,
     "metadata": {},
     "output_type": "execute_result"
    }
   ],
   "source": [
    "#sum of all 46 classes probabilities\n",
    "prediction[0].sum()"
   ]
  },
  {
   "cell_type": "code",
   "execution_count": 31,
   "metadata": {},
   "outputs": [
    {
     "data": {
      "text/plain": [
       "(2246, 46)"
      ]
     },
     "execution_count": 31,
     "metadata": {},
     "output_type": "execute_result"
    }
   ],
   "source": [
    "prediction.shape"
   ]
  },
  {
   "cell_type": "code",
   "execution_count": 34,
   "metadata": {},
   "outputs": [
    {
     "data": {
      "text/plain": [
       "3"
      ]
     },
     "execution_count": 34,
     "metadata": {},
     "output_type": "execute_result"
    }
   ],
   "source": [
    "prediction[0].argmax()"
   ]
  },
  {
   "cell_type": "markdown",
   "metadata": {},
   "source": [
    "## Doing some chnages in model"
   ]
  },
  {
   "cell_type": "code",
   "execution_count": 35,
   "metadata": {},
   "outputs": [],
   "source": [
    "y_train = np.array(train_labels)"
   ]
  },
  {
   "cell_type": "code",
   "execution_count": 36,
   "metadata": {},
   "outputs": [
    {
     "data": {
      "text/plain": [
       "array([ 3,  4,  3, ..., 25,  3, 25], dtype=int64)"
      ]
     },
     "execution_count": 36,
     "metadata": {},
     "output_type": "execute_result"
    }
   ],
   "source": [
    "y_train"
   ]
  },
  {
   "cell_type": "code",
   "execution_count": 37,
   "metadata": {},
   "outputs": [],
   "source": [
    "model.compile(optimizer='rmsprop',\n",
    "              loss='sparse_categorical_crossentropy',\n",
    "              metrics=['acc'])"
   ]
  },
  {
   "cell_type": "code",
   "execution_count": 38,
   "metadata": {},
   "outputs": [
    {
     "name": "stdout",
     "output_type": "stream",
     "text": [
      "Train on 8982 samples\n",
      "Epoch 1/20\n",
      "8982/8982 [==============================] - 4s 405us/sample - loss: 0.2312 - acc: 0.9399\n",
      "Epoch 2/20\n",
      "8982/8982 [==============================] - 2s 235us/sample - loss: 0.1594 - acc: 0.9502\n",
      "Epoch 3/20\n",
      "8982/8982 [==============================] - 2s 237us/sample - loss: 0.1465 - acc: 0.9495\n",
      "Epoch 4/20\n",
      "8982/8982 [==============================] - 2s 236us/sample - loss: 0.1301 - acc: 0.9551\n",
      "Epoch 5/20\n",
      "8982/8982 [==============================] - 2s 238us/sample - loss: 0.1229 - acc: 0.9537\n",
      "Epoch 6/20\n",
      "8982/8982 [==============================] - 2s 237us/sample - loss: 0.1185 - acc: 0.9548\n",
      "Epoch 7/20\n",
      "8982/8982 [==============================] - 2s 237us/sample - loss: 0.1111 - acc: 0.9550\n",
      "Epoch 8/20\n",
      "8982/8982 [==============================] - 2s 237us/sample - loss: 0.1112 - acc: 0.9559\n",
      "Epoch 9/20\n",
      "8982/8982 [==============================] - 2s 239us/sample - loss: 0.1077 - acc: 0.9552\n",
      "Epoch 10/20\n",
      "8982/8982 [==============================] - 2s 245us/sample - loss: 0.1107 - acc: 0.9537\n",
      "Epoch 11/20\n",
      "8982/8982 [==============================] - 2s 237us/sample - loss: 0.1048 - acc: 0.9550\n",
      "Epoch 12/20\n",
      "8982/8982 [==============================] - 2s 237us/sample - loss: 0.1007 - acc: 0.9556\n",
      "Epoch 13/20\n",
      "8982/8982 [==============================] - 2s 237us/sample - loss: 0.0990 - acc: 0.9545\n",
      "Epoch 14/20\n",
      "8982/8982 [==============================] - 2s 238us/sample - loss: 0.1028 - acc: 0.9548\n",
      "Epoch 15/20\n",
      "8982/8982 [==============================] - 2s 238us/sample - loss: 0.1000 - acc: 0.9550\n",
      "Epoch 16/20\n",
      "8982/8982 [==============================] - 2s 237us/sample - loss: 0.0979 - acc: 0.9555\n",
      "Epoch 17/20\n",
      "8982/8982 [==============================] - 2s 235us/sample - loss: 0.0954 - acc: 0.9546\n",
      "Epoch 18/20\n",
      "8982/8982 [==============================] - 2s 237us/sample - loss: 0.0944 - acc: 0.9565\n",
      "Epoch 19/20\n",
      "8982/8982 [==============================] - 2s 234us/sample - loss: 0.0956 - acc: 0.9542\n",
      "Epoch 20/20\n",
      "8982/8982 [==============================] - 2s 234us/sample - loss: 0.0921 - acc: 0.9574\n"
     ]
    },
    {
     "data": {
      "text/plain": [
       "<tensorflow.python.keras.callbacks.History at 0x1b20071d320>"
      ]
     },
     "execution_count": 38,
     "metadata": {},
     "output_type": "execute_result"
    }
   ],
   "source": [
    "model.fit(x_train,y_train, epochs=20, batch_size=512)"
   ]
  },
  {
   "cell_type": "code",
   "execution_count": 39,
   "metadata": {},
   "outputs": [
    {
     "data": {
      "text/plain": [
       "3"
      ]
     },
     "execution_count": 39,
     "metadata": {},
     "output_type": "execute_result"
    }
   ],
   "source": [
    "prediction = model.predict(x_test)\n",
    "prediction[0].argmax()"
   ]
  },
  {
   "cell_type": "code",
   "execution_count": null,
   "metadata": {},
   "outputs": [],
   "source": []
  }
 ],
 "metadata": {
  "kernelspec": {
   "display_name": "Python 3",
   "language": "python",
   "name": "python3"
  },
  "language_info": {
   "codemirror_mode": {
    "name": "ipython",
    "version": 3
   },
   "file_extension": ".py",
   "mimetype": "text/x-python",
   "name": "python",
   "nbconvert_exporter": "python",
   "pygments_lexer": "ipython3",
   "version": "3.7.3"
  }
 },
 "nbformat": 4,
 "nbformat_minor": 2
}
