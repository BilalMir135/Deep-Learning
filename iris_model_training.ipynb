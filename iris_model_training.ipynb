{
 "cells": [
  {
   "cell_type": "markdown",
   "metadata": {},
   "source": [
    "# ASSIGNMENT : IRIS MULTI-CLASS CLASSIFICATION\n",
    "\n",
    "###### Purpose :\n",
    "To predict the species of flower .\n",
    "###### Description :\n",
    "The dataset contains a set of 150 records under 5 attributes - Petal Length, Petal Width, Sepal Length, Sepal width and Class(Species).\n",
    "###### Requirements :\n",
    "1) Code must be in tf 2.0 .\n",
    "\n",
    "2) Accuracy must be in between 95-97% .\n",
    "\n",
    "3) Model shouldn't be Overfit (You can add drop out layer for this) ."
   ]
  },
  {
   "cell_type": "markdown",
   "metadata": {},
   "source": [
    "### STEP 1 : Load all the necessary libraries "
   ]
  },
  {
   "cell_type": "code",
   "execution_count": 1,
   "metadata": {},
   "outputs": [],
   "source": [
    "import numpy as np\n",
    "import pandas as pd\n",
    "import tensorflow as tf\n",
    "from tensorflow.keras import models, layers, utils\n",
    "from sklearn.utils import shuffle\n",
    "from sklearn.preprocessing import LabelEncoder"
   ]
  },
  {
   "cell_type": "markdown",
   "metadata": {},
   "source": [
    "### STEP 2 : Data Preparation\n",
    "This step consists of multiple sub steps from data loading [download](https://github.com/ramsha275/PIAIC-Sir-Anees-Quarter-2/blob/master/Deep%20Learning/iris.csv),shuffling ,spliting in **Train** and **Test** sets to one-hot-enconding on labels . \n"
   ]
  },
  {
   "cell_type": "code",
   "execution_count": 2,
   "metadata": {},
   "outputs": [
    {
     "data": {
      "text/html": [
       "<div>\n",
       "<style scoped>\n",
       "    .dataframe tbody tr th:only-of-type {\n",
       "        vertical-align: middle;\n",
       "    }\n",
       "\n",
       "    .dataframe tbody tr th {\n",
       "        vertical-align: top;\n",
       "    }\n",
       "\n",
       "    .dataframe thead th {\n",
       "        text-align: right;\n",
       "    }\n",
       "</style>\n",
       "<table border=\"1\" class=\"dataframe\">\n",
       "  <thead>\n",
       "    <tr style=\"text-align: right;\">\n",
       "      <th></th>\n",
       "      <th>sepal.length</th>\n",
       "      <th>sepal.width</th>\n",
       "      <th>petal.length</th>\n",
       "      <th>petal.width</th>\n",
       "      <th>variety</th>\n",
       "    </tr>\n",
       "  </thead>\n",
       "  <tbody>\n",
       "    <tr>\n",
       "      <th>0</th>\n",
       "      <td>5.1</td>\n",
       "      <td>3.5</td>\n",
       "      <td>1.4</td>\n",
       "      <td>0.2</td>\n",
       "      <td>Setosa</td>\n",
       "    </tr>\n",
       "    <tr>\n",
       "      <th>1</th>\n",
       "      <td>4.9</td>\n",
       "      <td>3.0</td>\n",
       "      <td>1.4</td>\n",
       "      <td>0.2</td>\n",
       "      <td>Setosa</td>\n",
       "    </tr>\n",
       "    <tr>\n",
       "      <th>2</th>\n",
       "      <td>4.7</td>\n",
       "      <td>3.2</td>\n",
       "      <td>1.3</td>\n",
       "      <td>0.2</td>\n",
       "      <td>Setosa</td>\n",
       "    </tr>\n",
       "    <tr>\n",
       "      <th>3</th>\n",
       "      <td>4.6</td>\n",
       "      <td>3.1</td>\n",
       "      <td>1.5</td>\n",
       "      <td>0.2</td>\n",
       "      <td>Setosa</td>\n",
       "    </tr>\n",
       "    <tr>\n",
       "      <th>4</th>\n",
       "      <td>5.0</td>\n",
       "      <td>3.6</td>\n",
       "      <td>1.4</td>\n",
       "      <td>0.2</td>\n",
       "      <td>Setosa</td>\n",
       "    </tr>\n",
       "  </tbody>\n",
       "</table>\n",
       "</div>"
      ],
      "text/plain": [
       "   sepal.length  sepal.width  petal.length  petal.width variety\n",
       "0           5.1          3.5           1.4          0.2  Setosa\n",
       "1           4.9          3.0           1.4          0.2  Setosa\n",
       "2           4.7          3.2           1.3          0.2  Setosa\n",
       "3           4.6          3.1           1.5          0.2  Setosa\n",
       "4           5.0          3.6           1.4          0.2  Setosa"
      ]
     },
     "execution_count": 2,
     "metadata": {},
     "output_type": "execute_result"
    }
   ],
   "source": [
    "#Loading Data\n",
    "df = pd.read_csv('data/iris.csv')\n",
    "df.head()"
   ]
  },
  {
   "cell_type": "code",
   "execution_count": 3,
   "metadata": {},
   "outputs": [
    {
     "data": {
      "text/html": [
       "<div>\n",
       "<style scoped>\n",
       "    .dataframe tbody tr th:only-of-type {\n",
       "        vertical-align: middle;\n",
       "    }\n",
       "\n",
       "    .dataframe tbody tr th {\n",
       "        vertical-align: top;\n",
       "    }\n",
       "\n",
       "    .dataframe thead th {\n",
       "        text-align: right;\n",
       "    }\n",
       "</style>\n",
       "<table border=\"1\" class=\"dataframe\">\n",
       "  <thead>\n",
       "    <tr style=\"text-align: right;\">\n",
       "      <th></th>\n",
       "      <th>sepal.length</th>\n",
       "      <th>sepal.width</th>\n",
       "      <th>petal.length</th>\n",
       "      <th>petal.width</th>\n",
       "      <th>variety</th>\n",
       "    </tr>\n",
       "  </thead>\n",
       "  <tbody>\n",
       "    <tr>\n",
       "      <th>118</th>\n",
       "      <td>7.7</td>\n",
       "      <td>2.6</td>\n",
       "      <td>6.9</td>\n",
       "      <td>2.3</td>\n",
       "      <td>Virginica</td>\n",
       "    </tr>\n",
       "    <tr>\n",
       "      <th>13</th>\n",
       "      <td>4.3</td>\n",
       "      <td>3.0</td>\n",
       "      <td>1.1</td>\n",
       "      <td>0.1</td>\n",
       "      <td>Setosa</td>\n",
       "    </tr>\n",
       "    <tr>\n",
       "      <th>134</th>\n",
       "      <td>6.1</td>\n",
       "      <td>2.6</td>\n",
       "      <td>5.6</td>\n",
       "      <td>1.4</td>\n",
       "      <td>Virginica</td>\n",
       "    </tr>\n",
       "    <tr>\n",
       "      <th>42</th>\n",
       "      <td>4.4</td>\n",
       "      <td>3.2</td>\n",
       "      <td>1.3</td>\n",
       "      <td>0.2</td>\n",
       "      <td>Setosa</td>\n",
       "    </tr>\n",
       "    <tr>\n",
       "      <th>128</th>\n",
       "      <td>6.4</td>\n",
       "      <td>2.8</td>\n",
       "      <td>5.6</td>\n",
       "      <td>2.1</td>\n",
       "      <td>Virginica</td>\n",
       "    </tr>\n",
       "  </tbody>\n",
       "</table>\n",
       "</div>"
      ],
      "text/plain": [
       "     sepal.length  sepal.width  petal.length  petal.width    variety\n",
       "118           7.7          2.6           6.9          2.3  Virginica\n",
       "13            4.3          3.0           1.1          0.1     Setosa\n",
       "134           6.1          2.6           5.6          1.4  Virginica\n",
       "42            4.4          3.2           1.3          0.2     Setosa\n",
       "128           6.4          2.8           5.6          2.1  Virginica"
      ]
     },
     "execution_count": 3,
     "metadata": {},
     "output_type": "execute_result"
    }
   ],
   "source": [
    "#Shuffling Data\n",
    "df = shuffle(df)\n",
    "df.head()"
   ]
  },
  {
   "cell_type": "code",
   "execution_count": 4,
   "metadata": {},
   "outputs": [
    {
     "name": "stdout",
     "output_type": "stream",
     "text": [
      "object\n",
      "[[7.7 2.6 6.9 2.3 'Virginica']\n",
      " [4.3 3.0 1.1 0.1 'Setosa']\n",
      " [6.1 2.6 5.6 1.4 'Virginica']\n",
      " [4.4 3.2 1.3 0.2 'Setosa']\n",
      " [6.4 2.8 5.6 2.1 'Virginica']\n",
      " [5.0 3.2 1.2 0.2 'Setosa']\n",
      " [5.5 2.5 4.0 1.3 'Versicolor']\n",
      " [6.3 3.4 5.6 2.4 'Virginica']\n",
      " [5.4 3.4 1.5 0.4 'Setosa']\n",
      " [6.3 2.3 4.4 1.3 'Versicolor']\n",
      " [6.6 3.0 4.4 1.4 'Versicolor']\n",
      " [6.3 2.8 5.1 1.5 'Virginica']\n",
      " [5.7 4.4 1.5 0.4 'Setosa']\n",
      " [5.0 2.0 3.5 1.0 'Versicolor']\n",
      " [5.7 2.8 4.1 1.3 'Versicolor']\n",
      " [5.9 3.0 5.1 1.8 'Virginica']\n",
      " [6.3 2.5 4.9 1.5 'Versicolor']\n",
      " [5.7 2.9 4.2 1.3 'Versicolor']\n",
      " [6.4 3.2 5.3 2.3 'Virginica']\n",
      " [5.4 3.4 1.7 0.2 'Setosa']\n",
      " [5.1 3.3 1.7 0.5 'Setosa']\n",
      " [4.6 3.2 1.4 0.2 'Setosa']\n",
      " [5.4 3.9 1.3 0.4 'Setosa']\n",
      " [7.9 3.8 6.4 2.0 'Virginica']\n",
      " [5.2 2.7 3.9 1.4 'Versicolor']\n",
      " [6.1 2.8 4.7 1.2 'Versicolor']\n",
      " [6.4 2.9 4.3 1.3 'Versicolor']\n",
      " [5.5 2.3 4.0 1.3 'Versicolor']\n",
      " [7.7 3.0 6.1 2.3 'Virginica']\n",
      " [5.2 3.4 1.4 0.2 'Setosa']\n",
      " [6.4 3.1 5.5 1.8 'Virginica']\n",
      " [5.1 3.7 1.5 0.4 'Setosa']\n",
      " [6.5 3.0 5.2 2.0 'Virginica']\n",
      " [5.4 3.0 4.5 1.5 'Versicolor']\n",
      " [4.8 3.1 1.6 0.2 'Setosa']\n",
      " [4.6 3.1 1.5 0.2 'Setosa']\n",
      " [6.0 2.2 5.0 1.5 'Virginica']\n",
      " [4.8 3.4 1.9 0.2 'Setosa']\n",
      " [4.7 3.2 1.6 0.2 'Setosa']\n",
      " [5.6 2.7 4.2 1.3 'Versicolor']\n",
      " [6.7 3.3 5.7 2.1 'Virginica']\n",
      " [5.6 2.9 3.6 1.3 'Versicolor']\n",
      " [6.9 3.1 5.1 2.3 'Virginica']\n",
      " [6.0 2.2 4.0 1.0 'Versicolor']\n",
      " [5.1 3.8 1.6 0.2 'Setosa']\n",
      " [7.1 3.0 5.9 2.1 'Virginica']\n",
      " [6.0 2.7 5.1 1.6 'Versicolor']\n",
      " [5.6 2.5 3.9 1.1 'Versicolor']\n",
      " [7.2 3.2 6.0 1.8 'Virginica']\n",
      " [5.2 4.1 1.5 0.1 'Setosa']\n",
      " [6.3 3.3 6.0 2.5 'Virginica']\n",
      " [6.1 3.0 4.6 1.4 'Versicolor']\n",
      " [6.4 2.8 5.6 2.2 'Virginica']\n",
      " [5.0 3.5 1.6 0.6 'Setosa']\n",
      " [7.2 3.6 6.1 2.5 'Virginica']\n",
      " [6.7 3.3 5.7 2.5 'Virginica']\n",
      " [5.7 2.5 5.0 2.0 'Virginica']\n",
      " [5.1 3.8 1.5 0.3 'Setosa']\n",
      " [6.1 2.9 4.7 1.4 'Versicolor']\n",
      " [5.0 3.5 1.3 0.3 'Setosa']\n",
      " [5.1 2.5 3.0 1.1 'Versicolor']\n",
      " [6.1 2.8 4.0 1.3 'Versicolor']\n",
      " [7.7 3.8 6.7 2.2 'Virginica']\n",
      " [6.7 3.0 5.2 2.3 'Virginica']\n",
      " [5.6 2.8 4.9 2.0 'Virginica']\n",
      " [5.2 3.5 1.5 0.2 'Setosa']\n",
      " [5.7 2.8 4.5 1.3 'Versicolor']\n",
      " [4.4 3.0 1.3 0.2 'Setosa']\n",
      " [5.8 2.7 4.1 1.0 'Versicolor']\n",
      " [4.6 3.4 1.4 0.3 'Setosa']\n",
      " [5.0 3.6 1.4 0.2 'Setosa']\n",
      " [5.6 3.0 4.5 1.5 'Versicolor']\n",
      " [7.2 3.0 5.8 1.6 'Virginica']\n",
      " [6.7 3.0 5.0 1.7 'Versicolor']\n",
      " [6.9 3.1 4.9 1.5 'Versicolor']\n",
      " [6.5 3.0 5.8 2.2 'Virginica']\n",
      " [6.2 2.9 4.3 1.3 'Versicolor']\n",
      " [5.7 2.6 3.5 1.0 'Versicolor']\n",
      " [7.7 2.8 6.7 2.0 'Virginica']\n",
      " [7.3 2.9 6.3 1.8 'Virginica']\n",
      " [6.3 2.5 5.0 1.9 'Virginica']\n",
      " [5.1 3.4 1.5 0.2 'Setosa']\n",
      " [6.3 2.7 4.9 1.8 'Virginica']\n",
      " [6.4 2.7 5.3 1.9 'Virginica']\n",
      " [4.8 3.0 1.4 0.1 'Setosa']\n",
      " [5.1 3.8 1.9 0.4 'Setosa']\n",
      " [6.8 3.2 5.9 2.3 'Virginica']\n",
      " [6.7 3.1 4.4 1.4 'Versicolor']\n",
      " [6.5 3.2 5.1 2.0 'Virginica']\n",
      " [7.0 3.2 4.7 1.4 'Versicolor']\n",
      " [4.9 2.5 4.5 1.7 'Virginica']\n",
      " [6.7 3.1 4.7 1.5 'Versicolor']\n",
      " [5.0 3.4 1.6 0.4 'Setosa']\n",
      " [5.5 2.6 4.4 1.2 'Versicolor']\n",
      " [6.7 2.5 5.8 1.8 'Virginica']\n",
      " [4.9 3.6 1.4 0.1 'Setosa']\n",
      " [5.5 4.2 1.4 0.2 'Setosa']\n",
      " [4.9 3.1 1.5 0.2 'Setosa']\n",
      " [6.8 2.8 4.8 1.4 'Versicolor']\n",
      " [6.5 3.0 5.5 1.8 'Virginica']\n",
      " [5.4 3.9 1.7 0.4 'Setosa']\n",
      " [5.9 3.0 4.2 1.5 'Versicolor']\n",
      " [6.0 2.9 4.5 1.5 'Versicolor']\n",
      " [4.7 3.2 1.3 0.2 'Setosa']\n",
      " [6.2 2.8 4.8 1.8 'Virginica']\n",
      " [5.8 2.6 4.0 1.2 'Versicolor']\n",
      " [5.0 3.4 1.5 0.2 'Setosa']\n",
      " [4.4 2.9 1.4 0.2 'Setosa']\n",
      " [7.6 3.0 6.6 2.1 'Virginica']\n",
      " [5.8 2.7 5.1 1.9 'Virginica']\n",
      " [4.6 3.6 1.0 0.2 'Setosa']\n",
      " [6.4 3.2 4.5 1.5 'Versicolor']\n",
      " [5.8 2.7 5.1 1.9 'Virginica']\n",
      " [6.0 3.4 4.5 1.6 'Versicolor']\n",
      " [5.5 2.4 3.7 1.0 'Versicolor']\n",
      " [6.0 3.0 4.8 1.8 'Virginica']\n",
      " [5.7 3.0 4.2 1.2 'Versicolor']\n",
      " [4.9 3.1 1.5 0.1 'Setosa']\n",
      " [5.5 3.5 1.3 0.2 'Setosa']\n",
      " [7.4 2.8 6.1 1.9 'Virginica']\n",
      " [6.2 2.2 4.5 1.5 'Versicolor']\n",
      " [5.0 3.0 1.6 0.2 'Setosa']\n",
      " [6.9 3.2 5.7 2.3 'Virginica']\n",
      " [6.7 3.1 5.6 2.4 'Virginica']\n",
      " [6.8 3.0 5.5 2.1 'Virginica']\n",
      " [4.9 3.0 1.4 0.2 'Setosa']\n",
      " [6.2 3.4 5.4 2.3 'Virginica']\n",
      " [5.0 2.3 3.3 1.0 'Versicolor']\n",
      " [6.9 3.1 5.4 2.1 'Virginica']\n",
      " [5.0 3.3 1.4 0.2 'Setosa']\n",
      " [4.5 2.3 1.3 0.3 'Setosa']\n",
      " [5.5 2.4 3.8 1.1 'Versicolor']\n",
      " [5.8 4.0 1.2 0.2 'Setosa']\n",
      " [4.8 3.0 1.4 0.3 'Setosa']\n",
      " [5.4 3.7 1.5 0.2 'Setosa']\n",
      " [5.6 3.0 4.1 1.3 'Versicolor']\n",
      " [5.1 3.5 1.4 0.3 'Setosa']\n",
      " [6.3 2.9 5.6 1.8 'Virginica']\n",
      " [6.6 2.9 4.6 1.3 'Versicolor']\n",
      " [5.3 3.7 1.5 0.2 'Setosa']\n",
      " [5.9 3.2 4.8 1.8 'Versicolor']\n",
      " [4.8 3.4 1.6 0.2 'Setosa']\n",
      " [5.8 2.7 3.9 1.2 'Versicolor']\n",
      " [5.7 3.8 1.7 0.3 'Setosa']\n",
      " [6.1 3.0 4.9 1.8 'Virginica']\n",
      " [6.3 3.3 4.7 1.6 'Versicolor']\n",
      " [5.8 2.8 5.1 2.4 'Virginica']\n",
      " [4.9 2.4 3.3 1.0 'Versicolor']\n",
      " [5.1 3.5 1.4 0.2 'Setosa']\n",
      " [6.5 2.8 4.6 1.5 'Versicolor']]\n"
     ]
    }
   ],
   "source": [
    "#Converting data into numpy array\n",
    "data = df.values\n",
    "print(data.dtype)\n",
    "print(data)"
   ]
  },
  {
   "cell_type": "code",
   "execution_count": 5,
   "metadata": {},
   "outputs": [
    {
     "data": {
      "text/plain": [
       "(150, 5)"
      ]
     },
     "execution_count": 5,
     "metadata": {},
     "output_type": "execute_result"
    }
   ],
   "source": [
    "data.shape"
   ]
  },
  {
   "cell_type": "code",
   "execution_count": 6,
   "metadata": {},
   "outputs": [
    {
     "name": "stdout",
     "output_type": "stream",
     "text": [
      "[7.7 2.6 6.9 2.3]\n",
      "Virginica\n"
     ]
    }
   ],
   "source": [
    "#Splitting labels from data\n",
    "x = data[:,:4].astype('float32')\n",
    "y = data[:,4]\n",
    "print(x[0])\n",
    "print(y[0])"
   ]
  },
  {
   "cell_type": "code",
   "execution_count": 7,
   "metadata": {},
   "outputs": [
    {
     "name": "stdout",
     "output_type": "stream",
     "text": [
      "Train Data:  (105, 4)\n",
      "Test Data:  (45, 4)\n"
     ]
    }
   ],
   "source": [
    "#splitting data & labels into training and testing datasets\n",
    "train_data = x[:105,:] #70% training\n",
    "train_labels = y[:105]\n",
    "test_data = x[105:,:] #30% testing\n",
    "test_labels = y[105:]\n",
    "print('Train Data: ',train_data.shape)\n",
    "print('Test Data: ',test_data.shape)"
   ]
  },
  {
   "cell_type": "code",
   "execution_count": 8,
   "metadata": {},
   "outputs": [
    {
     "name": "stdout",
     "output_type": "stream",
     "text": [
      "[2 0 2 0 2 0 1 2 0 1 1 2 0 1 1 2 1 1 2 0 0 0 0 2 1 1 1 1 2 0 2 0 2 1 0 0 2\n",
      " 0 0 1 2 1 2 1 0 2 1 1 2 0 2 1 2 0 2 2 2 0 1 0 1 1 2 2 2 0 1 0 1 0 0 1 2 1\n",
      " 1 2 1 1 2 2 2 0 2 2 0 0 2 1 2 1 2 1 0 1 2 0 0 0 1 2 0 1 1 0 2]\n"
     ]
    }
   ],
   "source": [
    "#encoding string labels into integers\n",
    "le = LabelEncoder()\n",
    "le.fit(train_labels)\n",
    "class_train_labels = le.transform(train_labels)\n",
    "print(class_train_labels)"
   ]
  },
  {
   "cell_type": "code",
   "execution_count": 9,
   "metadata": {},
   "outputs": [
    {
     "name": "stdout",
     "output_type": "stream",
     "text": [
      "['Setosa' 'Versicolor' 'Virginica']\n"
     ]
    }
   ],
   "source": [
    "print(le.classes_)"
   ]
  },
  {
   "cell_type": "code",
   "execution_count": 10,
   "metadata": {},
   "outputs": [
    {
     "name": "stdout",
     "output_type": "stream",
     "text": [
      "[1 0 0 2 2 0 1 2 1 1 2 1 0 0 2 1 0 2 2 2 0 2 1 2 0 0 1 0 0 0 1 0 2 1 0 1 0\n",
      " 1 0 2 1 2 1 0 1]\n"
     ]
    }
   ],
   "source": [
    "le.fit(test_labels)\n",
    "le.fit(test_labels)\n",
    "class_test_labels = le.transform(test_labels)\n",
    "print(class_test_labels)"
   ]
  },
  {
   "cell_type": "code",
   "execution_count": 11,
   "metadata": {},
   "outputs": [],
   "source": [
    "#one hot encoding of labels\n",
    "encoded_train_labels = utils.to_categorical(class_train_labels)\n",
    "encoded_test_labels = utils.to_categorical(class_test_labels)"
   ]
  },
  {
   "cell_type": "code",
   "execution_count": 12,
   "metadata": {},
   "outputs": [
    {
     "data": {
      "text/plain": [
       "array([0., 0., 1.], dtype=float32)"
      ]
     },
     "execution_count": 12,
     "metadata": {},
     "output_type": "execute_result"
    }
   ],
   "source": [
    "encoded_train_labels[0]"
   ]
  },
  {
   "cell_type": "code",
   "execution_count": 13,
   "metadata": {},
   "outputs": [
    {
     "data": {
      "text/plain": [
       "array([0., 1., 0.], dtype=float32)"
      ]
     },
     "execution_count": 13,
     "metadata": {},
     "output_type": "execute_result"
    }
   ],
   "source": [
    "encoded_test_labels[0]"
   ]
  },
  {
   "cell_type": "markdown",
   "metadata": {},
   "source": [
    "### STEP 3 : Model Architecture \n",
    "\n",
    "\n",
    "###### Input : 4 \n",
    "###### 1 hidden Layer : 8 nodes\n",
    "###### Output : 3"
   ]
  },
  {
   "cell_type": "code",
   "execution_count": 14,
   "metadata": {},
   "outputs": [],
   "source": [
    "model = models.Sequential()\n",
    "model.add(layers.Dense(8, activation='relu', input_shape=(4,)))\n",
    "model.add(layers.Dense(3, activation='softmax'))"
   ]
  },
  {
   "cell_type": "markdown",
   "metadata": {},
   "source": [
    "### STEP 4 : Compilation Step "
   ]
  },
  {
   "cell_type": "code",
   "execution_count": 15,
   "metadata": {},
   "outputs": [
    {
     "name": "stdout",
     "output_type": "stream",
     "text": [
      "Train on 105 samples\n",
      "Epoch 1/100\n",
      "105/105 [==============================] - 2s 18ms/sample - loss: 2.4838 - acc: 0.6000\n",
      "Epoch 2/100\n",
      "105/105 [==============================] - 0s 2ms/sample - loss: 1.8768 - acc: 0.6000\n",
      "Epoch 3/100\n",
      "105/105 [==============================] - 0s 2ms/sample - loss: 1.3538 - acc: 0.6190\n",
      "Epoch 4/100\n",
      "105/105 [==============================] - 0s 2ms/sample - loss: 0.9961 - acc: 0.6476TA: 0s - loss: 1.0104 - acc: 0.642\n",
      "Epoch 5/100\n",
      "105/105 [==============================] - 0s 2ms/sample - loss: 0.8126 - acc: 0.6476\n",
      "Epoch 6/100\n",
      "105/105 [==============================] - 0s 2ms/sample - loss: 0.7216 - acc: 0.6762\n",
      "Epoch 7/100\n",
      "105/105 [==============================] - 0s 2ms/sample - loss: 0.6456 - acc: 0.7524\n",
      "Epoch 8/100\n",
      "105/105 [==============================] - 0s 2ms/sample - loss: 0.5948 - acc: 0.7524\n",
      "Epoch 9/100\n",
      "105/105 [==============================] - 0s 2ms/sample - loss: 0.5554 - acc: 0.7905\n",
      "Epoch 10/100\n",
      "105/105 [==============================] - 0s 2ms/sample - loss: 0.5220 - acc: 0.7714\n",
      "Epoch 11/100\n",
      "105/105 [==============================] - 0s 2ms/sample - loss: 0.4932 - acc: 0.8952\n",
      "Epoch 12/100\n",
      "105/105 [==============================] - 0s 2ms/sample - loss: 0.4713 - acc: 0.8000\n",
      "Epoch 13/100\n",
      "105/105 [==============================] - 0s 2ms/sample - loss: 0.4479 - acc: 0.8190\n",
      "Epoch 14/100\n",
      "105/105 [==============================] - 0s 2ms/sample - loss: 0.4352 - acc: 0.8762\n",
      "Epoch 15/100\n",
      "105/105 [==============================] - 0s 2ms/sample - loss: 0.4254 - acc: 0.8762\n",
      "Epoch 16/100\n",
      "105/105 [==============================] - 0s 2ms/sample - loss: 0.4075 - acc: 0.8286\n",
      "Epoch 17/100\n",
      "105/105 [==============================] - 0s 2ms/sample - loss: 0.3965 - acc: 0.8857\n",
      "Epoch 18/100\n",
      "105/105 [==============================] - 0s 2ms/sample - loss: 0.3873 - acc: 0.9048\n",
      "Epoch 19/100\n",
      "105/105 [==============================] - 0s 2ms/sample - loss: 0.3778 - acc: 0.8571\n",
      "Epoch 20/100\n",
      "105/105 [==============================] - 0s 2ms/sample - loss: 0.3662 - acc: 0.8476\n",
      "Epoch 21/100\n",
      "105/105 [==============================] - 0s 2ms/sample - loss: 0.3471 - acc: 0.9143\n",
      "Epoch 22/100\n",
      "105/105 [==============================] - 0s 2ms/sample - loss: 0.3557 - acc: 0.8571\n",
      "Epoch 23/100\n",
      "105/105 [==============================] - 0s 2ms/sample - loss: 0.3395 - acc: 0.8857\n",
      "Epoch 24/100\n",
      "105/105 [==============================] - 0s 2ms/sample - loss: 0.3396 - acc: 0.8952\n",
      "Epoch 25/100\n",
      "105/105 [==============================] - 0s 2ms/sample - loss: 0.3257 - acc: 0.9333\n",
      "Epoch 26/100\n",
      "105/105 [==============================] - 0s 3ms/sample - loss: 0.3239 - acc: 0.9333\n",
      "Epoch 27/100\n",
      "105/105 [==============================] - 0s 2ms/sample - loss: 0.3174 - acc: 0.9333\n",
      "Epoch 28/100\n",
      "105/105 [==============================] - 0s 2ms/sample - loss: 0.3101 - acc: 0.9238\n",
      "Epoch 29/100\n",
      "105/105 [==============================] - 0s 2ms/sample - loss: 0.3039 - acc: 0.9333\n",
      "Epoch 30/100\n",
      "105/105 [==============================] - 0s 2ms/sample - loss: 0.2967 - acc: 0.9238\n",
      "Epoch 31/100\n",
      "105/105 [==============================] - 0s 2ms/sample - loss: 0.2959 - acc: 0.9238\n",
      "Epoch 32/100\n",
      "105/105 [==============================] - 0s 2ms/sample - loss: 0.2860 - acc: 0.9429\n",
      "Epoch 33/100\n",
      "105/105 [==============================] - 0s 2ms/sample - loss: 0.2797 - acc: 0.9429\n",
      "Epoch 34/100\n",
      "105/105 [==============================] - 0s 2ms/sample - loss: 0.2740 - acc: 0.9524\n",
      "Epoch 35/100\n",
      "105/105 [==============================] - 0s 2ms/sample - loss: 0.2729 - acc: 0.9429\n",
      "Epoch 36/100\n",
      "105/105 [==============================] - 0s 2ms/sample - loss: 0.2664 - acc: 0.9524\n",
      "Epoch 37/100\n",
      "105/105 [==============================] - 0s 2ms/sample - loss: 0.2627 - acc: 0.9429 0s - loss: 0.2564 - acc: 0.925\n",
      "Epoch 38/100\n",
      "105/105 [==============================] - 0s 2ms/sample - loss: 0.2547 - acc: 0.9429\n",
      "Epoch 39/100\n",
      "105/105 [==============================] - 0s 2ms/sample - loss: 0.2487 - acc: 0.9143\n",
      "Epoch 40/100\n",
      "105/105 [==============================] - 0s 2ms/sample - loss: 0.2455 - acc: 0.9619\n",
      "Epoch 41/100\n",
      "105/105 [==============================] - 0s 2ms/sample - loss: 0.2419 - acc: 0.9429\n",
      "Epoch 42/100\n",
      "105/105 [==============================] - 0s 2ms/sample - loss: 0.2379 - acc: 0.9238\n",
      "Epoch 43/100\n",
      "105/105 [==============================] - 0s 2ms/sample - loss: 0.2334 - acc: 0.9524\n",
      "Epoch 44/100\n",
      "105/105 [==============================] - 0s 2ms/sample - loss: 0.2281 - acc: 0.9524\n",
      "Epoch 45/100\n",
      "105/105 [==============================] - 0s 2ms/sample - loss: 0.2260 - acc: 0.9429\n",
      "Epoch 46/100\n",
      "105/105 [==============================] - 0s 2ms/sample - loss: 0.2218 - acc: 0.9524\n",
      "Epoch 47/100\n",
      "105/105 [==============================] - 0s 2ms/sample - loss: 0.2142 - acc: 0.9524\n",
      "Epoch 48/100\n",
      "105/105 [==============================] - 0s 2ms/sample - loss: 0.2144 - acc: 0.9333\n",
      "Epoch 49/100\n",
      "105/105 [==============================] - 0s 2ms/sample - loss: 0.2101 - acc: 0.9429\n",
      "Epoch 50/100\n",
      "105/105 [==============================] - 0s 2ms/sample - loss: 0.2020 - acc: 0.9524\n",
      "Epoch 51/100\n",
      "105/105 [==============================] - 0s 2ms/sample - loss: 0.2053 - acc: 0.9524\n",
      "Epoch 52/100\n",
      "105/105 [==============================] - 0s 2ms/sample - loss: 0.2034 - acc: 0.9524\n",
      "Epoch 53/100\n",
      "105/105 [==============================] - 0s 2ms/sample - loss: 0.2009 - acc: 0.9524\n",
      "Epoch 54/100\n",
      "105/105 [==============================] - 0s 2ms/sample - loss: 0.1954 - acc: 0.9524\n",
      "Epoch 55/100\n",
      "105/105 [==============================] - 0s 2ms/sample - loss: 0.1965 - acc: 0.9429\n",
      "Epoch 56/100\n",
      "105/105 [==============================] - 0s 2ms/sample - loss: 0.1900 - acc: 0.9619\n",
      "Epoch 57/100\n",
      "105/105 [==============================] - 0s 2ms/sample - loss: 0.1874 - acc: 0.9524\n",
      "Epoch 58/100\n",
      "105/105 [==============================] - 0s 2ms/sample - loss: 0.1840 - acc: 0.9524\n",
      "Epoch 59/100\n",
      "105/105 [==============================] - 0s 2ms/sample - loss: 0.1837 - acc: 0.9524\n",
      "Epoch 60/100\n",
      "105/105 [==============================] - 0s 2ms/sample - loss: 0.1825 - acc: 0.9619\n",
      "Epoch 61/100\n",
      "105/105 [==============================] - 0s 2ms/sample - loss: 0.1803 - acc: 0.9429\n",
      "Epoch 62/100\n",
      "105/105 [==============================] - 0s 2ms/sample - loss: 0.1750 - acc: 0.9524\n",
      "Epoch 63/100\n",
      "105/105 [==============================] - 0s 2ms/sample - loss: 0.1746 - acc: 0.9524\n",
      "Epoch 64/100\n",
      "105/105 [==============================] - 0s 2ms/sample - loss: 0.1725 - acc: 0.9524\n",
      "Epoch 65/100\n",
      "105/105 [==============================] - 0s 2ms/sample - loss: 0.1715 - acc: 0.9429\n",
      "Epoch 66/100\n",
      "105/105 [==============================] - 0s 2ms/sample - loss: 0.1688 - acc: 0.9524\n",
      "Epoch 67/100\n",
      "105/105 [==============================] - 0s 2ms/sample - loss: 0.1646 - acc: 0.9524\n",
      "Epoch 68/100\n",
      "105/105 [==============================] - 0s 2ms/sample - loss: 0.1657 - acc: 0.9619\n",
      "Epoch 69/100\n",
      "105/105 [==============================] - 0s 2ms/sample - loss: 0.1611 - acc: 0.9524\n",
      "Epoch 70/100\n",
      "105/105 [==============================] - 0s 2ms/sample - loss: 0.1611 - acc: 0.9524\n",
      "Epoch 71/100\n",
      "105/105 [==============================] - 0s 2ms/sample - loss: 0.1530 - acc: 0.9619\n",
      "Epoch 72/100\n",
      "105/105 [==============================] - 0s 2ms/sample - loss: 0.1566 - acc: 0.9524\n",
      "Epoch 73/100\n",
      "105/105 [==============================] - 0s 2ms/sample - loss: 0.1556 - acc: 0.9524\n",
      "Epoch 74/100\n",
      "105/105 [==============================] - 0s 3ms/sample - loss: 0.1551 - acc: 0.9429\n",
      "Epoch 75/100\n",
      "105/105 [==============================] - 0s 2ms/sample - loss: 0.1534 - acc: 0.9524\n",
      "Epoch 76/100\n",
      "105/105 [==============================] - 0s 2ms/sample - loss: 0.1456 - acc: 0.9619\n",
      "Epoch 77/100\n",
      "105/105 [==============================] - 0s 2ms/sample - loss: 0.1496 - acc: 0.9524\n",
      "Epoch 78/100\n",
      "105/105 [==============================] - 0s 2ms/sample - loss: 0.1443 - acc: 0.9619\n",
      "Epoch 79/100\n",
      "105/105 [==============================] - 0s 2ms/sample - loss: 0.1465 - acc: 0.9524\n",
      "Epoch 80/100\n",
      "105/105 [==============================] - 0s 2ms/sample - loss: 0.1456 - acc: 0.9714\n",
      "Epoch 81/100\n",
      "105/105 [==============================] - 0s 2ms/sample - loss: 0.1470 - acc: 0.9524\n",
      "Epoch 82/100\n",
      "105/105 [==============================] - 0s 2ms/sample - loss: 0.1442 - acc: 0.9524\n"
     ]
    },
    {
     "name": "stdout",
     "output_type": "stream",
     "text": [
      "Epoch 83/100\n",
      "105/105 [==============================] - 0s 2ms/sample - loss: 0.1395 - acc: 0.9619\n",
      "Epoch 84/100\n",
      "105/105 [==============================] - 0s 2ms/sample - loss: 0.1400 - acc: 0.9619\n",
      "Epoch 85/100\n",
      "105/105 [==============================] - 0s 2ms/sample - loss: 0.1364 - acc: 0.9524\n",
      "Epoch 86/100\n",
      "105/105 [==============================] - 0s 1ms/sample - loss: 0.1356 - acc: 0.9524\n",
      "Epoch 87/100\n",
      "105/105 [==============================] - 0s 1ms/sample - loss: 0.1338 - acc: 0.9524\n",
      "Epoch 88/100\n",
      "105/105 [==============================] - 0s 2ms/sample - loss: 0.1302 - acc: 0.9619\n",
      "Epoch 89/100\n",
      "105/105 [==============================] - 0s 1ms/sample - loss: 0.1283 - acc: 0.9619\n",
      "Epoch 90/100\n",
      "105/105 [==============================] - 0s 1ms/sample - loss: 0.1247 - acc: 0.9524\n",
      "Epoch 91/100\n",
      "105/105 [==============================] - 0s 2ms/sample - loss: 0.1213 - acc: 0.9619\n",
      "Epoch 92/100\n",
      "105/105 [==============================] - 0s 2ms/sample - loss: 0.1219 - acc: 0.9524\n",
      "Epoch 93/100\n",
      "105/105 [==============================] - 0s 1ms/sample - loss: 0.1197 - acc: 0.9524\n",
      "Epoch 94/100\n",
      "105/105 [==============================] - 0s 2ms/sample - loss: 0.1180 - acc: 0.9619\n",
      "Epoch 95/100\n",
      "105/105 [==============================] - 0s 1ms/sample - loss: 0.1133 - acc: 0.9619\n",
      "Epoch 96/100\n",
      "105/105 [==============================] - 0s 1ms/sample - loss: 0.1163 - acc: 0.9619\n",
      "Epoch 97/100\n",
      "105/105 [==============================] - 0s 2ms/sample - loss: 0.1147 - acc: 0.9619\n",
      "Epoch 98/100\n",
      "105/105 [==============================] - 0s 2ms/sample - loss: 0.1109 - acc: 0.9619\n",
      "Epoch 99/100\n",
      "105/105 [==============================] - 0s 1ms/sample - loss: 0.1108 - acc: 0.9619\n",
      "Epoch 100/100\n",
      "105/105 [==============================] - 0s 1ms/sample - loss: 0.1055 - acc: 0.9714\n"
     ]
    },
    {
     "data": {
      "text/plain": [
       "<tensorflow.python.keras.callbacks.History at 0x24d2847e048>"
      ]
     },
     "execution_count": 15,
     "metadata": {},
     "output_type": "execute_result"
    }
   ],
   "source": [
    "model.compile(optimizer='rmsprop',\n",
    "              loss='categorical_crossentropy',\n",
    "              metrics=['acc'])\n",
    "model.fit(train_data, encoded_train_labels, epochs=100, batch_size=2)"
   ]
  },
  {
   "cell_type": "markdown",
   "metadata": {},
   "source": [
    "### STEP 5 : Evaluation "
   ]
  },
  {
   "cell_type": "code",
   "execution_count": 16,
   "metadata": {},
   "outputs": [
    {
     "name": "stdout",
     "output_type": "stream",
     "text": [
      "45/1 - 0s - loss: 0.1068 - acc: 0.9778\n",
      "0.9777778\n"
     ]
    }
   ],
   "source": [
    "loss, acc = model.evaluate(test_data, encoded_test_labels, verbose=2)\n",
    "print(acc)"
   ]
  },
  {
   "cell_type": "markdown",
   "metadata": {},
   "source": [
    "### STEP 6 : Prediction "
   ]
  },
  {
   "cell_type": "code",
   "execution_count": 29,
   "metadata": {},
   "outputs": [],
   "source": [
    "i=19\n",
    "prediction = model.predict_classes(test_data[i].reshape(1,4))"
   ]
  },
  {
   "cell_type": "code",
   "execution_count": 30,
   "metadata": {},
   "outputs": [
    {
     "name": "stdout",
     "output_type": "stream",
     "text": [
      "Data = [6.8 3.  5.5 2.1] => Prediction = Virginica => Actual label = Virginica\n"
     ]
    }
   ],
   "source": [
    "#checking\n",
    "if prediction == 0:\n",
    "    print(f'Data = {test_data[i]} => Prediction = Setosa => Actual label = {test_labels[i]}')\n",
    "elif prediction == 1:\n",
    "    print(f'Data = {test_data[i]} => Prediction = Versicolor => Actual label = {test_labels[i]}')\n",
    "else:\n",
    "     print(f'Data = {test_data[i]} => Prediction = Virginica => Actual label = {test_labels[i]}')"
   ]
  },
  {
   "cell_type": "code",
   "execution_count": null,
   "metadata": {},
   "outputs": [],
   "source": []
  }
 ],
 "metadata": {
  "kernelspec": {
   "display_name": "Python 3",
   "language": "python",
   "name": "python3"
  },
  "language_info": {
   "codemirror_mode": {
    "name": "ipython",
    "version": 3
   },
   "file_extension": ".py",
   "mimetype": "text/x-python",
   "name": "python",
   "nbconvert_exporter": "python",
   "pygments_lexer": "ipython3",
   "version": "3.7.3"
  }
 },
 "nbformat": 4,
 "nbformat_minor": 2
}
